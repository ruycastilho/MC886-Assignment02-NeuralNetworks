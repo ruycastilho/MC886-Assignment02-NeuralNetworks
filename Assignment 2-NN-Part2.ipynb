{
 "cells": [
  {
   "cell_type": "markdown",
   "metadata": {},
   "source": [
    "\n",
    "# Assignment #2\n",
    "\n",
    "Pedro Stramantinoli P. Cagliume Gomes 175955\n",
    "\n",
    "Ruy Castilho Barrichelo 177012\n"
   ]
  },
  {
   "cell_type": "markdown",
   "metadata": {},
   "source": [
    "## Importação dos Dados"
   ]
  },
  {
   "cell_type": "code",
   "execution_count": 1,
   "metadata": {},
   "outputs": [],
   "source": [
    "import pandas as pd\n",
    "import os\n",
    "\n",
    "def load_fashionMNIST_train():\n",
    "    csv_path = os.path.join(\"Data/fashion-mnist-dataset\", \"fashion-mnist_train.csv\")\n",
    "    return pd.read_csv(csv_path)\n",
    "\n",
    "def load_fashionMNIST_tests():\n",
    "    csv_path = os.path.join(\"Data/fashion-mnist-dataset\", \"fashion-mnist_test.csv\")\n",
    "    return pd.read_csv(csv_path)"
   ]
  },
  {
   "cell_type": "markdown",
   "metadata": {},
   "source": [
    "## Feature Scalling e Normalização"
   ]
  },
  {
   "cell_type": "code",
   "execution_count": 2,
   "metadata": {},
   "outputs": [],
   "source": [
    "import numpy as np\n",
    "\n",
    "def normalize(train, test):\n",
    "    train_mean = np.mean(train, axis=0)\n",
    "    train = train - train_mean\n",
    "    test = test - train_mean\n",
    "    \n",
    "    return train, test\n",
    "\n",
    "def scale(X):\n",
    "    max_array = np.max(X, axis=0)\n",
    "    X = X / max_array[None, :]\n",
    "    return X"
   ]
  },
  {
   "cell_type": "markdown",
   "metadata": {},
   "source": [
    "## Geração de matrizes de Features e Target"
   ]
  },
  {
   "cell_type": "markdown",
   "metadata": {},
   "source": [
    "### Setup inicial dos dados"
   ]
  },
  {
   "cell_type": "code",
   "execution_count": 3,
   "metadata": {},
   "outputs": [],
   "source": [
    "import numpy as np\n",
    "\n",
    "#carrega os dados\n",
    "data_train = load_fashionMNIST_train()\n",
    "data_test = load_fashionMNIST_tests()\n",
    "\n",
    "# Separação em Features e Target\n",
    "\n",
    "data_train_target = np.array(data_train[\"label\"])\n",
    "data_test_target = np.array(data_test[\"label\"])\n",
    "\n",
    "data_train = np.array(data_train)\n",
    "data_test = np.array(data_test)\n",
    "\n",
    "data_train = np.delete(data_train, 0, axis=1)\n",
    "data_test = np.delete(data_test, 0, axis=1)\n",
    "\n",
    "# Normalização\n",
    "normalized_data_train, normalized_data_test = normalize(data_train,data_test)\n",
    "\n",
    "# Scaling\n",
    "scaled_data_train = scale(normalized_data_train)\n",
    "scaled_data_test = scale(normalized_data_test)\n",
    "\n",
    "def getTrainSet():\n",
    "    return scaled_data_train, data_train_target\n",
    "\n",
    "def getTestSet():\n",
    "    return scaled_data_test,data_test_target"
   ]
  },
  {
   "cell_type": "markdown",
   "metadata": {},
   "source": [
    "## Gerador de conjuntos de Cross Validation"
   ]
  },
  {
   "cell_type": "code",
   "execution_count": 4,
   "metadata": {},
   "outputs": [],
   "source": [
    "# Cross Validation Generation \n",
    "\n",
    "from sklearn.model_selection import train_test_split, KFold\n",
    "\n",
    "# Retorna um gerador de indices\n",
    "def generate_sets(TRAINING_DATA,type='kfold'):\n",
    "\n",
    "    # Cross validation using train_test_split\n",
    "    if (type == 'split'):\n",
    "       return train_test_split(TRAINING_DATA,test_size=0.2,random_state=0)\n",
    "\n",
    "    # Cross validation using K-Fold\n",
    "    # K = 5, Shuffle = true, Seed = 21\n",
    "    elif (type == 'kfold'):\n",
    "        kfold_seed = 21\n",
    "\n",
    "        kfold = KFold(n_splits=5, shuffle=True, random_state=kfold_seed)\n",
    "        return kfold.split(TRAINING_DATA)"
   ]
  },
  {
   "cell_type": "markdown",
   "metadata": {},
   "source": [
    "## Units per Layer"
   ]
  },
  {
   "cell_type": "code",
   "execution_count": 5,
   "metadata": {},
   "outputs": [],
   "source": [
    "input_layer=784 \n",
    "units_per_hidden_layer=1024 # 2 to the tenth, since there are 10 classes\n",
    "output_layer=10"
   ]
  },
  {
   "cell_type": "markdown",
   "metadata": {},
   "source": [
    "## Learning Rate"
   ]
  },
  {
   "cell_type": "code",
   "execution_count": 6,
   "metadata": {},
   "outputs": [],
   "source": [
    "learning_rate = 0.01"
   ]
  },
  {
   "cell_type": "markdown",
   "metadata": {},
   "source": [
    "## Number of Interactions"
   ]
  },
  {
   "cell_type": "code",
   "execution_count": 7,
   "metadata": {},
   "outputs": [],
   "source": [
    "interactions=1"
   ]
  },
  {
   "cell_type": "markdown",
   "metadata": {},
   "source": [
    "## Weights and Bias"
   ]
  },
  {
   "cell_type": "code",
   "execution_count": 8,
   "metadata": {},
   "outputs": [],
   "source": [
    "# Initializes weights randomly\n",
    "\n",
    "import numpy as np\n",
    "\n",
    "np.random.seed(21)\n",
    "\n",
    "def weights1():\n",
    "    return np.random.rand(input_layer, units_per_hidden_layer)\n",
    "\n",
    "def weights2():\n",
    "    return np.random.rand(units_per_hidden_layer, units_per_hidden_layer)\n",
    "    \n",
    "def weights3():\n",
    "    return np.random.rand(units_per_hidden_layer, output_layer)\n",
    "    \n",
    "     \n",
    "# Adds biases, initialized with zeros\n",
    "\n",
    "def bias1():\n",
    "    return np.zeros((1, units_per_hidden_layer))\n",
    "\n",
    "def bias2():\n",
    "    return np.zeros((1, units_per_hidden_layer))\n",
    "\n",
    "def bias3():\n",
    "    return np.zeros((1, output_layer))\n",
    "\n",
    "def setupNN():\n",
    "    return weights1(), bias1(), weights2(), bias2(),  weights3(), bias3()"
   ]
  },
  {
   "cell_type": "markdown",
   "metadata": {},
   "source": [
    "## Activation Functions"
   ]
  },
  {
   "cell_type": "markdown",
   "metadata": {},
   "source": [
    "### Sigmoid and Loss functions"
   ]
  },
  {
   "cell_type": "code",
   "execution_count": 9,
   "metadata": {},
   "outputs": [],
   "source": [
    "import numpy as np\n",
    "\n",
    "def sigmoid(z):\n",
    "    return 1 / (1+np.exp(-z))\n",
    "\n",
    "def sigmoid_derivative(a):\n",
    "    return a*(1 - a)\n",
    "\n",
    "def loss(h, y):\n",
    "    return (-y * np.log(h) - (1 - y) * np.log(1 - h)).mean()\n"
   ]
  },
  {
   "cell_type": "markdown",
   "metadata": {},
   "source": [
    "### ReLU"
   ]
  },
  {
   "cell_type": "code",
   "execution_count": 10,
   "metadata": {},
   "outputs": [],
   "source": [
    "import numpy as np\n",
    "\n",
    "def ReLU(z):\n",
    "    z[z<0]=0\n",
    "    return z\n",
    "\n",
    "def ReLU_derivative(z):\n",
    "    z = np.where(z >= 0, 1, 0)\n",
    "    return z"
   ]
  },
  {
   "cell_type": "markdown",
   "metadata": {},
   "source": [
    "### Leaky ReLU"
   ]
  },
  {
   "cell_type": "code",
   "execution_count": 11,
   "metadata": {},
   "outputs": [],
   "source": [
    "import numpy as np\n",
    "\n",
    "def leaky_ReLU(z):\n",
    "    z = np.where(z > 0, z, z * 0.01)\n",
    "    return z\n",
    "\n",
    "def leaky_ReLU_derivative(z):\n",
    "    z = np.where(z >= 0, 1, 0.01)\n",
    "    return z"
   ]
  },
  {
   "cell_type": "markdown",
   "metadata": {},
   "source": [
    "### Tanh"
   ]
  },
  {
   "cell_type": "code",
   "execution_count": 12,
   "metadata": {},
   "outputs": [],
   "source": [
    "import numpy as np\n",
    "\n",
    "def tanh(z):\n",
    "    return np.tanh(z)\n",
    "\n",
    "def tanh_derivative(z):\n",
    "    tan = tanh(z)\n",
    "    return (1-np.square(tan))"
   ]
  },
  {
   "cell_type": "markdown",
   "metadata": {},
   "source": [
    "## Softmax"
   ]
  },
  {
   "cell_type": "code",
   "execution_count": 13,
   "metadata": {},
   "outputs": [],
   "source": [
    "import numpy as np\n",
    "\n",
    "# Stable softmax\n",
    "def softmax(z):\n",
    "    expZ = np.exp(z - np.max(z))\n",
    "    return expZ / expZ.sum()\n"
   ]
  },
  {
   "cell_type": "markdown",
   "metadata": {},
   "source": [
    "## Loss Function - Cross Entropy with Softmax"
   ]
  },
  {
   "cell_type": "code",
   "execution_count": 14,
   "metadata": {},
   "outputs": [],
   "source": [
    "def cross_entropy_loss(delta, y, length):\n",
    "    delta[range(length), y] -= 1\n",
    "    return delta"
   ]
  },
  {
   "cell_type": "markdown",
   "metadata": {},
   "source": [
    "## Success/Error Percentages"
   ]
  },
  {
   "cell_type": "code",
   "execution_count": 15,
   "metadata": {},
   "outputs": [],
   "source": [
    "import numpy as np\n",
    "\n",
    "def error_rate(prediction, y):\n",
    "    return np.mean( prediction != y )\n",
    "\n",
    "def success_rate(prediction, y):\n",
    "    return np.mean( prediction == y )\n"
   ]
  },
  {
   "cell_type": "markdown",
   "metadata": {},
   "source": [
    "# Models\n",
    "\n",
    "#### Different activation functions for hidden layers, but all of them end with the use of Softmax"
   ]
  },
  {
   "cell_type": "markdown",
   "metadata": {},
   "source": [
    "## Sigmoid"
   ]
  },
  {
   "cell_type": "code",
   "execution_count": 16,
   "metadata": {},
   "outputs": [],
   "source": [
    "import numpy as np\n",
    "\n",
    "def sigmoid_model(X, y):\n",
    "\n",
    "    W1, B1, W2, B2, W3, B3 = setupNN()\n",
    "\n",
    "    parameters = {}\n",
    "\n",
    "    for i in range(0, interactions):\n",
    "\n",
    "        # Forward propagation\n",
    "\n",
    "        z1 = np.dot(X, W1) + B1\n",
    "\n",
    "        a1 = sigmoid(z1)\n",
    "\n",
    "        z2 = np.dot(a1, W2) + B2\n",
    "\n",
    "        a2 = sigmoid(z2)\n",
    "        \n",
    "        z3 = np.dot(a2, W3) + B3\n",
    "        # Hypothesis\n",
    "        a3 = softmax(z3)\n",
    "\n",
    "        # Back propagation\n",
    "        delta4 = cross_entropy_loss(a3, y, len(X))\n",
    "\n",
    "        dW3 = np.dot(np.transpose(a2), delta4)\n",
    "        dB3 = np.sum(delta4, axis=0, keepdims=True)\n",
    "        dot = np.dot(delta4, np.transpose(W3))\n",
    "        deriv = sigmoid_derivative(a2)\n",
    "        delta3 = np.multiply(dot, deriv)\n",
    "\n",
    "        dW2 = np.dot(np.transpose(a1), delta3)\n",
    "        dB2 = np.sum(delta3, axis=0, keepdims=True)\n",
    "        dot = np.dot(delta3, np.transpose(W2))\n",
    "        deriv = sigmoid_derivative(a1)\n",
    "        delta2 = np.multiply(dot, deriv)\n",
    "\n",
    "        dW1 = np.dot(np.transpose(X), delta2)\n",
    "        dB1 = np.sum(delta2, axis=0, keepdims=True)\n",
    "\n",
    "        # Updating parameters\n",
    "\n",
    "        W1 += -learning_rate * dW1\n",
    "        B1 += -learning_rate * dB1\n",
    "        W2 += -learning_rate * dW2\n",
    "        B2 += -learning_rate * dB2\n",
    "        W3 += -learning_rate * dW3\n",
    "        B3 += -learning_rate * dB3\n",
    "\n",
    "        parameters = {'W1': W1, 'B1': B1, 'W2': W2, 'B2': B2, 'W3': W3, 'B3': B3}\n",
    "\n",
    "    return parameters\n",
    "\n",
    "def sigmoid_prediction(parameters, X):\n",
    "    W1, B1, W2, B2, W3, B3 = parameters['W1'], parameters['B1'], parameters['W2'], parameters['B2'], parameters['W3'], parameters['B3']\n",
    "\n",
    "    z1 = np.dot(X, W1) + B1\n",
    "    a1 = sigmoid(z1)\n",
    "    z2 = np.dot(a1, W2) + B2\n",
    "    a2 = sigmoid(z2)\n",
    "    z3 = np.dot(a2, W3) + B3\n",
    "    a3 = softmax(z3)\n",
    "\n",
    "    return np.argmax(a3, axis=1)"
   ]
  },
  {
   "cell_type": "code",
   "execution_count": 17,
   "metadata": {},
   "outputs": [
    {
     "name": "stdout",
     "output_type": "stream",
     "text": [
      "Success rate for set 0  is:  0.10208333333333333\n",
      "Success rate for set 1  is:  0.09925\n",
      "Success rate for set 2  is:  0.09483333333333334\n",
      "Success rate for set 3  is:  0.102\n",
      "Success rate for set 4  is:  0.10183333333333333\n"
     ]
    }
   ],
   "source": [
    "X1, y1 = getTrainSet()\n",
    "indices_generator = generate_sets(X1)\n",
    "model_list = []\n",
    "result_list = []\n",
    "\n",
    "i=0\n",
    "for train_index, val_index in indices_generator:\n",
    "    x1_train = X1[train_index]\n",
    "    y1_train = y1[train_index]\n",
    "    x1_val = X1[val_index]\n",
    "    y1_val = y1[val_index]\n",
    "     \n",
    "    parameters = sigmoid_model(x1_train, y1_train)\n",
    "    model_list.append(parameters)\n",
    "    \n",
    "    y1_predict = sigmoid_prediction(parameters, x1_val)\n",
    "    success = success_rate(y1_predict, y1_val)\n",
    "    result_list.append(success)\n",
    "    \n",
    "    i += 1\n",
    "\n",
    "for i in range(0, len(result_list)):\n",
    "    print('Success rate for set', i, ' is: ', result_list[i])"
   ]
  },
  {
   "cell_type": "markdown",
   "metadata": {},
   "source": [
    "## ReLU"
   ]
  },
  {
   "cell_type": "code",
   "execution_count": 20,
   "metadata": {},
   "outputs": [],
   "source": [
    "import numpy as np\n",
    "\n",
    "def relu_model(X, y):\n",
    "\n",
    "    W1, B1, W2, B2, W3, B3 = setupNN()\n",
    "\n",
    "    parameters = {}\n",
    "\n",
    "    for i in range(0, interactions):\n",
    "\n",
    "        # Forward propagation\n",
    "\n",
    "        z1 = np.dot(X, W1) + B1\n",
    "\n",
    "        a1 = ReLU(z1)\n",
    "\n",
    "        z2 = np.dot(a1, W2) + B2\n",
    "\n",
    "        a2 = ReLU(z2)\n",
    "        \n",
    "        z3 = np.dot(a2, W3) + B3\n",
    "        \n",
    "        # Hypothesis\n",
    "        a3 = softmax(z3)\n",
    "\n",
    "        # Back propagation\n",
    "        delta4 = cross_entropy_loss(a3, y, len(X))\n",
    "\n",
    "        dW3 = np.dot(np.transpose(a2), delta4)\n",
    "        dB3 = np.sum(delta4, axis=0, keepdims=True)\n",
    "        dot = np.dot(delta4, np.transpose(W3))\n",
    "        deriv = ReLU_derivative(a2)\n",
    "        delta3 = np.multiply(dot, deriv)\n",
    "\n",
    "        dW2 = np.dot(np.transpose(a1), delta3)\n",
    "        dB2 = np.sum(delta3, axis=0, keepdims=True)\n",
    "        dot = np.dot(delta3, np.transpose(W2))\n",
    "        deriv = ReLU_derivative(z1)\n",
    "        delta2 = np.multiply(dot, deriv)\n",
    "\n",
    "        dW1 = np.dot(np.transpose(X), delta2)\n",
    "        dB1 = np.sum(delta2, axis=0, keepdims=True)\n",
    "\n",
    "        # Updating parameters\n",
    "\n",
    "        W1 += -learning_rate * dW1\n",
    "        B1 += -learning_rate * dB1\n",
    "        W2 += -learning_rate * dW2\n",
    "        B2 += -learning_rate * dB2\n",
    "        W3 += -learning_rate * dW3\n",
    "        B3 += -learning_rate * dB3\n",
    "\n",
    "        parameters = {'W1': W1, 'B1': B1, 'W2': W2, 'B2': B2, 'W3': W3, 'B3': B3}\n",
    "\n",
    "    return parameters\n",
    "\n",
    "def relu_prediction(parameters, X):\n",
    "    W1, B1, W2, B2, W3, B3 = parameters['W1'], parameters['B1'], parameters['W2'], parameters['B2'], parameters['W3'], parameters['B3']\n",
    "\n",
    "    z1 = np.dot(X, W1) + B1\n",
    "    a1 = ReLU(z1)\n",
    "    z2 = np.dot(a1, W2) + B2\n",
    "    a2 = ReLU(z2)\n",
    "    z3 = np.dot(a2, W3) + B3\n",
    "    a3 = softmax(z3)\n",
    "\n",
    "    return np.argmax(a3, axis=1)"
   ]
  },
  {
   "cell_type": "code",
   "execution_count": 21,
   "metadata": {},
   "outputs": [
    {
     "name": "stdout",
     "output_type": "stream",
     "text": [
      "Success rate for set 0  is:  0.10208333333333333\n",
      "Success rate for set 1  is:  0.09925\n",
      "Success rate for set 2  is:  0.09483333333333334\n",
      "Success rate for set 3  is:  0.102\n",
      "Success rate for set 4  is:  0.10183333333333333\n"
     ]
    }
   ],
   "source": [
    "X2, y2 = getTrainSet()\n",
    "indices_generator = generate_sets(X2)\n",
    "model_list_relu = []\n",
    "result_list_relu = []\n",
    "\n",
    "i=0\n",
    "for train_index, val_index in indices_generator:\n",
    "    x2_train = X2[train_index]\n",
    "    y2_train = y2[train_index]\n",
    "    x2_val = X2[val_index]\n",
    "    y2_val = y2[val_index]\n",
    "     \n",
    "    parameters = relu_model(x2_train, y2_train)\n",
    "    model_list_relu.append(parameters)\n",
    "    \n",
    "    y2_predict = relu_prediction(parameters, x2_val)\n",
    "    success = success_rate(y2_predict, y2_val)\n",
    "    result_list_relu.append(success)\n",
    "    \n",
    "    i += 1\n",
    "\n",
    "for i in range(0, len(result_list)):\n",
    "    print('Success rate for set', i, ' is: ', result_list[i])"
   ]
  },
  {
   "cell_type": "markdown",
   "metadata": {},
   "source": [
    "## Leaky ReLU"
   ]
  },
  {
   "cell_type": "code",
   "execution_count": 22,
   "metadata": {},
   "outputs": [],
   "source": [
    "import numpy as np\n",
    "\n",
    "def leaky_relu_model(X, y):\n",
    "\n",
    "    W1, B1, W2, B2, W3, B3 = setupNN()\n",
    "\n",
    "    parameters = {}\n",
    "\n",
    "    for i in range(0, interactions):\n",
    "\n",
    "        # Forward propagation\n",
    "\n",
    "        z1 = np.dot(X, W1) + B1\n",
    "\n",
    "        a1 = leaky_ReLU(z1)\n",
    "\n",
    "        z2 = np.dot(a1, W2) + B2\n",
    "\n",
    "        a2 = leaky_ReLU(z2)\n",
    "        \n",
    "        z3 = np.dot(a2, W3) + B3\n",
    "        \n",
    "        # Hypothesis\n",
    "        a3 = softmax(z3)\n",
    "\n",
    "        # Back propagation\n",
    "        delta4 = cross_entropy_loss(a3, y, len(X))\n",
    "\n",
    "        dW3 = np.dot(np.transpose(a2), delta4)\n",
    "        dB3 = np.sum(delta4, axis=0, keepdims=True)\n",
    "        dot = np.dot(delta4, np.transpose(W3))\n",
    "        deriv = leaky_ReLU_derivative(a2)\n",
    "        delta3 = np.multiply(dot, deriv)\n",
    "\n",
    "        dW2 = np.dot(np.transpose(a1), delta3)\n",
    "        dB2 = np.sum(delta3, axis=0, keepdims=True)\n",
    "        dot = np.dot(delta3, np.transpose(W2))\n",
    "        deriv = leaky_ReLU_derivative(z1)\n",
    "        delta2 = np.multiply(dot, deriv)\n",
    "\n",
    "        dW1 = np.dot(np.transpose(X), delta2)\n",
    "        dB1 = np.sum(delta2, axis=0, keepdims=True)\n",
    "\n",
    "        # Updating parameters\n",
    "\n",
    "        W1 += -learning_rate * dW1\n",
    "        B1 += -learning_rate * dB1\n",
    "        W2 += -learning_rate * dW2\n",
    "        B2 += -learning_rate * dB2\n",
    "        W3 += -learning_rate * dW3\n",
    "        B3 += -learning_rate * dB3\n",
    "\n",
    "        parameters = {'W1': W1, 'B1': B1, 'W2': W2, 'B2': B2, 'W3': W3, 'B3': B3}\n",
    "\n",
    "    return parameters\n",
    "\n",
    "def leaky_relu_prediction(parameters, X):\n",
    "    W1, B1, W2, B2, W3, B3 = parameters['W1'], parameters['B1'], parameters['W2'], parameters['B2'], parameters['W3'], parameters['B3']\n",
    "\n",
    "    z1 = np.dot(X, W1) + B1\n",
    "    a1 = leaky_ReLU(z1)\n",
    "    z2 = np.dot(a1, W2) + B2\n",
    "    a2 = leaky_ReLU(z2)\n",
    "    z3 = np.dot(a2, W3) + B3\n",
    "    a3 = softmax(z3)\n",
    "\n",
    "    return np.argmax(a3, axis=1)"
   ]
  },
  {
   "cell_type": "code",
   "execution_count": 23,
   "metadata": {},
   "outputs": [
    {
     "name": "stdout",
     "output_type": "stream",
     "text": [
      "Success rate for set 0  is:  0.10208333333333333\n",
      "Success rate for set 1  is:  0.09925\n",
      "Success rate for set 2  is:  0.09483333333333334\n",
      "Success rate for set 3  is:  0.102\n",
      "Success rate for set 4  is:  0.10183333333333333\n"
     ]
    }
   ],
   "source": [
    "X3, y3 = getTrainSet()\n",
    "indices_generator = generate_sets(X3)\n",
    "model_list_leaky = []\n",
    "result_list_leaky = []\n",
    "\n",
    "i=0\n",
    "for train_index, val_index in indices_generator:\n",
    "    x3_train = X3[train_index]\n",
    "    y3_train = y3[train_index]\n",
    "    x3_val = X3[val_index]\n",
    "    y3_val = y3[val_index]\n",
    "     \n",
    "    parameters = leaky_relu_model(x3_train, y3_train)\n",
    "    model_list_leaky.append(parameters)\n",
    "    \n",
    "    y3_predict = leaky_relu_prediction(parameters, x3_val)\n",
    "    success = success_rate(y3_predict, y3_val)\n",
    "    result_list_leaky.append(success)\n",
    "    \n",
    "    i += 1\n",
    "\n",
    "for i in range(0, len(result_list)):\n",
    "    print('Success rate for set', i, ' is: ', result_list[i])"
   ]
  },
  {
   "cell_type": "markdown",
   "metadata": {},
   "source": [
    "## Tanh"
   ]
  },
  {
   "cell_type": "code",
   "execution_count": 24,
   "metadata": {},
   "outputs": [],
   "source": [
    "import numpy as np\n",
    "\n",
    "def tanh_model(X, y):\n",
    "\n",
    "    W1, B1, W2, B2, W3, B3 = setupNN()\n",
    "\n",
    "    parameters = {}\n",
    "\n",
    "    for i in range(0, interactions):\n",
    "\n",
    "        # Forward propagation\n",
    "\n",
    "        z1 = np.dot(X, W1) + B1\n",
    "\n",
    "        a1 = tanh(z1)\n",
    "\n",
    "        z2 = np.dot(a1, W2) + B2\n",
    "\n",
    "        a2 = tanh(z2)\n",
    "        \n",
    "        z3 = np.dot(a2, W3) + B3\n",
    "        \n",
    "        # Hypothesis\n",
    "        a3 = softmax(z3)\n",
    "\n",
    "        # Back propagation\n",
    "        delta4 = cross_entropy_loss(a3, y, len(X))\n",
    "\n",
    "        dW3 = np.dot(np.transpose(a2), delta4)\n",
    "        dB3 = np.sum(delta4, axis=0, keepdims=True)\n",
    "        dot = np.dot(delta4, np.transpose(W3))\n",
    "        deriv = tanh_derivative(a2)\n",
    "        delta3 = np.multiply(dot, deriv)\n",
    "\n",
    "        dW2 = np.dot(np.transpose(a1), delta3)\n",
    "        dB2 = np.sum(delta3, axis=0, keepdims=True)\n",
    "        dot = np.dot(delta3, np.transpose(W2))\n",
    "        deriv = tanh_derivative(z1)\n",
    "        delta2 = np.multiply(dot, deriv)\n",
    "\n",
    "        dW1 = np.dot(np.transpose(X), delta2)\n",
    "        dB1 = np.sum(delta2, axis=0, keepdims=True)\n",
    "\n",
    "        # Updating parameters\n",
    "\n",
    "        W1 += -learning_rate * dW1\n",
    "        B1 += -learning_rate * dB1\n",
    "        W2 += -learning_rate * dW2\n",
    "        B2 += -learning_rate * dB2\n",
    "        W3 += -learning_rate * dW3\n",
    "        B3 += -learning_rate * dB3\n",
    "\n",
    "        parameters = {'W1': W1, 'B1': B1, 'W2': W2, 'B2': B2, 'W3': W3, 'B3': B3}\n",
    "\n",
    "    return parameters\n",
    "\n",
    "def tanh_prediction(parameters, X):\n",
    "    W1, B1, W2, B2, W3, B3 = parameters['W1'], parameters['B1'], parameters['W2'], parameters['B2'], parameters['W3'], parameters['B3']\n",
    "\n",
    "    z1 = np.dot(X, W1) + B1\n",
    "    a1 = tanh(z1)\n",
    "    z2 = np.dot(a1, W2) + B2\n",
    "    a2 = tanh(z2)\n",
    "    z3 = np.dot(a2, W3) + B3\n",
    "    a3 = softmax(z3)\n",
    "\n",
    "    return np.argmax(a3, axis=1)"
   ]
  },
  {
   "cell_type": "code",
   "execution_count": 25,
   "metadata": {},
   "outputs": [
    {
     "name": "stdout",
     "output_type": "stream",
     "text": [
      "Success rate for set 0  is:  0.10208333333333333\n",
      "Success rate for set 1  is:  0.09925\n",
      "Success rate for set 2  is:  0.09483333333333334\n",
      "Success rate for set 3  is:  0.102\n",
      "Success rate for set 4  is:  0.10183333333333333\n"
     ]
    }
   ],
   "source": [
    "X4, y4 = getTrainSet()\n",
    "indices_generator = generate_sets(X3)\n",
    "model_list_tanh = []\n",
    "result_list_tanh = []\n",
    "\n",
    "i=0\n",
    "for train_index, val_index in indices_generator:\n",
    "    x4_train = X4[train_index]\n",
    "    y4_train = y4[train_index]\n",
    "    x4_val = X4[val_index]\n",
    "    y4_val = y4[val_index]\n",
    "     \n",
    "    parameters = leaky_relu_model(x4_train, y4_train)\n",
    "    model_list_tanh.append(parameters)\n",
    "    \n",
    "    y4_predict = leaky_relu_prediction(parameters, x4_val)\n",
    "    success = success_rate(y4_predict, y4_val)\n",
    "    result_list_tanh.append(success)\n",
    "    \n",
    "    i += 1\n",
    "\n",
    "for i in range(0, len(result_list)):\n",
    "    print('Success rate for set', i, ' is: ', result_list[i])"
   ]
  },
  {
   "cell_type": "markdown",
   "metadata": {},
   "source": [
    "# Test"
   ]
  },
  {
   "cell_type": "code",
   "execution_count": 26,
   "metadata": {},
   "outputs": [],
   "source": [
    "# Xt, yt = getTestSet()\n",
    "\n",
    "# yt_predict = insertmodelhere(insertparameters here, Xt)\n",
    "# success = success_rate(yt_predict, yt)\n",
    "\n",
    "# print('Success rate for the test set is: ', success)"
   ]
  }
 ],
 "metadata": {
  "kernelspec": {
   "display_name": "Python 3",
   "language": "python",
   "name": "python3"
  },
  "language_info": {
   "codemirror_mode": {
    "name": "ipython",
    "version": 3
   },
   "file_extension": ".py",
   "mimetype": "text/x-python",
   "name": "python",
   "nbconvert_exporter": "python",
   "pygments_lexer": "ipython3",
   "version": "3.6.5"
  }
 },
 "nbformat": 4,
 "nbformat_minor": 2
}
