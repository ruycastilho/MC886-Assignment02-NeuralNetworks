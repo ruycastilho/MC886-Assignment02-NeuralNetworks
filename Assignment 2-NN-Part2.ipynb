{
 "cells": [
  {
   "cell_type": "markdown",
   "metadata": {},
   "source": [
    "\n",
    "# Assignment #2\n",
    "\n",
    "### Redes de 2 camadas ocultas\n",
    "\n",
    "Pedro Stramantinoli P. Cagliume Gomes 175955\n",
    "\n",
    "Ruy Castilho Barrichelo 177012\n"
   ]
  },
  {
   "cell_type": "markdown",
   "metadata": {},
   "source": [
    "## Importação dos Dados"
   ]
  },
  {
   "cell_type": "code",
   "execution_count": 1,
   "metadata": {},
   "outputs": [],
   "source": [
    "import pandas as pd\n",
    "import os\n",
    "\n",
    "def load_fashionMNIST_train():\n",
    "    csv_path = os.path.join(\"Data/fashion-mnist-dataset\", \"fashion-mnist_train.csv\")\n",
    "    return pd.read_csv(csv_path)\n",
    "\n",
    "def load_fashionMNIST_tests():\n",
    "    csv_path = os.path.join(\"Data/fashion-mnist-dataset\", \"fashion-mnist_test.csv\")\n",
    "    return pd.read_csv(csv_path)"
   ]
  },
  {
   "cell_type": "markdown",
   "metadata": {},
   "source": [
    "## Feature Scalling e Normalização"
   ]
  },
  {
   "cell_type": "code",
   "execution_count": 2,
   "metadata": {},
   "outputs": [],
   "source": [
    "import numpy as np\n",
    "\n",
    "def normalize(train, test):\n",
    "    train_mean = np.mean(train, axis=0)\n",
    "    train = train - train_mean\n",
    "    test = test - train_mean\n",
    "    \n",
    "    return train, test\n",
    "\n",
    "def scale(X):\n",
    "    max_array = np.max(X, axis=0)\n",
    "    X = X / max_array[None, :]\n",
    "    return X"
   ]
  },
  {
   "cell_type": "markdown",
   "metadata": {},
   "source": [
    "## Geração de matrizes de Features e Target"
   ]
  },
  {
   "cell_type": "markdown",
   "metadata": {},
   "source": [
    "### Setup inicial dos dados"
   ]
  },
  {
   "cell_type": "code",
   "execution_count": 3,
   "metadata": {},
   "outputs": [],
   "source": [
    "import numpy as np\n",
    "\n",
    "#carrega os dados\n",
    "data_train = load_fashionMNIST_train()\n",
    "data_test = load_fashionMNIST_tests()\n",
    "\n",
    "# Separação em Features e Target\n",
    "\n",
    "data_train_target = np.array(data_train[\"label\"])\n",
    "data_test_target = np.array(data_test[\"label\"])\n",
    "\n",
    "data_train = np.array(data_train)\n",
    "data_test = np.array(data_test)\n",
    "\n",
    "data_train = np.delete(data_train, 0, axis=1)\n",
    "data_test = np.delete(data_test, 0, axis=1)\n",
    "\n",
    "# Normalização\n",
    "normalized_data_train, normalized_data_test = normalize(data_train,data_test)\n",
    "\n",
    "# Scaling\n",
    "scaled_data_train = scale(normalized_data_train)\n",
    "scaled_data_test = scale(normalized_data_test)\n",
    "\n",
    "def getTrainSet():\n",
    "    return scaled_data_train, data_train_target\n",
    "\n",
    "def getTestSet():\n",
    "    return scaled_data_test,data_test_target"
   ]
  },
  {
   "cell_type": "markdown",
   "metadata": {},
   "source": [
    "## Gerador de conjuntos de Cross Validation"
   ]
  },
  {
   "cell_type": "code",
   "execution_count": 4,
   "metadata": {},
   "outputs": [],
   "source": [
    "# Cross Validation Generation \n",
    "\n",
    "from sklearn.model_selection import train_test_split, KFold\n",
    "\n",
    "# Retorna um gerador de indices\n",
    "def generate_sets(TRAINING_DATA,type='kfold'):\n",
    "\n",
    "    # Cross validation using train_test_split\n",
    "    if (type == 'split'):\n",
    "       return train_test_split(TRAINING_DATA,test_size=0.2,random_state=0)\n",
    "\n",
    "    # Cross validation using K-Fold\n",
    "    # K = 5, Shuffle = true, Seed = 21\n",
    "    elif (type == 'kfold'):\n",
    "        kfold_seed = 21\n",
    "\n",
    "        kfold = KFold(n_splits=5, shuffle=True, random_state=kfold_seed)\n",
    "        return kfold.split(TRAINING_DATA)"
   ]
  },
  {
   "cell_type": "markdown",
   "metadata": {},
   "source": [
    "## Units per Layer"
   ]
  },
  {
   "cell_type": "code",
   "execution_count": 5,
   "metadata": {},
   "outputs": [],
   "source": [
    "input_layer=784 \n",
    "units_per_hidden_layer=500\n",
    "output_layer=10"
   ]
  },
  {
   "cell_type": "markdown",
   "metadata": {},
   "source": [
    "## Learning Rate"
   ]
  },
  {
   "cell_type": "code",
   "execution_count": 6,
   "metadata": {},
   "outputs": [],
   "source": [
    "learning_rate = 0.0005"
   ]
  },
  {
   "cell_type": "markdown",
   "metadata": {},
   "source": [
    "## Number of Epochs"
   ]
  },
  {
   "cell_type": "code",
   "execution_count": 31,
   "metadata": {},
   "outputs": [],
   "source": [
    "epochs=100\n",
    "epochs_for_overfit_test=500"
   ]
  },
  {
   "cell_type": "markdown",
   "metadata": {},
   "source": [
    "## Batch Size"
   ]
  },
  {
   "cell_type": "code",
   "execution_count": 8,
   "metadata": {},
   "outputs": [],
   "source": [
    "batch_size=512"
   ]
  },
  {
   "cell_type": "markdown",
   "metadata": {},
   "source": [
    "## Weights and Bias"
   ]
  },
  {
   "cell_type": "code",
   "execution_count": 9,
   "metadata": {},
   "outputs": [],
   "source": [
    "# Initializes weights randomly\n",
    "\n",
    "import numpy as np\n",
    "\n",
    "np.random.seed(21)\n",
    "\n",
    "def weights1():\n",
    "    return np.random.rand(input_layer, units_per_hidden_layer)*0.01\n",
    "\n",
    "def weights2():\n",
    "    return np.random.rand(units_per_hidden_layer, units_per_hidden_layer)*0.01\n",
    "    \n",
    "def weights3():\n",
    "    return np.random.rand(units_per_hidden_layer, output_layer)*0.01\n",
    "    \n",
    "     \n",
    "# Adds biases, initialized with zeros\n",
    "\n",
    "def bias1():\n",
    "    return np.zeros((1, units_per_hidden_layer))\n",
    "\n",
    "def bias2():\n",
    "    return np.zeros((1, units_per_hidden_layer))\n",
    "\n",
    "def bias3():\n",
    "    return np.zeros((1, output_layer))\n",
    "\n",
    "def setupNN():\n",
    "    return weights1(), bias1(), weights2(), bias2(),  weights3(), bias3()\n"
   ]
  },
  {
   "cell_type": "markdown",
   "metadata": {},
   "source": [
    "## Activation Functions"
   ]
  },
  {
   "cell_type": "markdown",
   "metadata": {},
   "source": [
    "### Sigmoid and Loss functions"
   ]
  },
  {
   "cell_type": "code",
   "execution_count": 10,
   "metadata": {},
   "outputs": [],
   "source": [
    "import numpy as np\n",
    "\n",
    "def sigmoid(z):\n",
    "    return 1 / (1+np.exp(-z))\n",
    "\n",
    "def sigmoid_derivative(a):\n",
    "    return a*(1 - a)\n",
    "\n",
    "def loss(h, y):\n",
    "    return (-y * np.log(h) - (1 - y) * np.log(1 - h)).mean()\n"
   ]
  },
  {
   "cell_type": "markdown",
   "metadata": {},
   "source": [
    "### ReLU"
   ]
  },
  {
   "cell_type": "code",
   "execution_count": 11,
   "metadata": {},
   "outputs": [],
   "source": [
    "import numpy as np\n",
    "\n",
    "def ReLU(z):\n",
    "    z[z<0]=0\n",
    "    return z\n",
    "\n",
    "def ReLU_derivative(z):\n",
    "    z = np.where(z >= 0, 1, 0)\n",
    "    return z"
   ]
  },
  {
   "cell_type": "markdown",
   "metadata": {},
   "source": [
    "### Leaky ReLU"
   ]
  },
  {
   "cell_type": "code",
   "execution_count": 12,
   "metadata": {},
   "outputs": [],
   "source": [
    "import numpy as np\n",
    "\n",
    "def leaky_ReLU(z):\n",
    "    z = np.where(z > 0, z, z * 0.01)\n",
    "    return z\n",
    "\n",
    "def leaky_ReLU_derivative(z):\n",
    "    z = np.where(z >= 0, 1, 0.01)\n",
    "    return z"
   ]
  },
  {
   "cell_type": "markdown",
   "metadata": {},
   "source": [
    "### Tanh"
   ]
  },
  {
   "cell_type": "code",
   "execution_count": 13,
   "metadata": {},
   "outputs": [],
   "source": [
    "import numpy as np\n",
    "\n",
    "def tanh(z):\n",
    "    return np.tanh(z)\n",
    "\n",
    "def tanh_derivative(z):\n",
    "    tan = tanh(z)\n",
    "    return (1-np.square(tan))"
   ]
  },
  {
   "cell_type": "markdown",
   "metadata": {},
   "source": [
    "## Softmax"
   ]
  },
  {
   "cell_type": "code",
   "execution_count": 14,
   "metadata": {},
   "outputs": [],
   "source": [
    "import numpy as np\n",
    "\n",
    "# Stable softmax\n",
    "def softmax(z):\n",
    "    expZ = np.exp(z - np.max(z))\n",
    "    return expZ / np.sum(expZ, axis=1, keepdims=True)\n"
   ]
  },
  {
   "cell_type": "markdown",
   "metadata": {},
   "source": [
    "## Loss Function - Cross Entropy with Softmax"
   ]
  },
  {
   "cell_type": "code",
   "execution_count": 15,
   "metadata": {},
   "outputs": [],
   "source": [
    "def cross_entropy_loss(delta, y, length):\n",
    "    delta[range(length), y] -= 1\n",
    "    return delta"
   ]
  },
  {
   "cell_type": "markdown",
   "metadata": {},
   "source": [
    "## Success/Error Percentages"
   ]
  },
  {
   "cell_type": "code",
   "execution_count": 16,
   "metadata": {},
   "outputs": [],
   "source": [
    "import numpy as np\n",
    "\n",
    "def error_rate(prediction, y):\n",
    "    return np.mean( prediction != y )\n",
    "\n",
    "def success_rate(prediction, y):\n",
    "    return np.mean( prediction == y )\n"
   ]
  },
  {
   "cell_type": "markdown",
   "metadata": {},
   "source": [
    "# Models\n",
    "\n",
    "#### Different activation functions for hidden layers, but all of them end with the use of Softmax"
   ]
  },
  {
   "cell_type": "markdown",
   "metadata": {},
   "source": [
    "## Sigmoid"
   ]
  },
  {
   "cell_type": "code",
   "execution_count": 17,
   "metadata": {},
   "outputs": [],
   "source": [
    "import numpy as np\n",
    "import matplotlib.pyplot as plt\n",
    "\n",
    "def sigmoid_model(completeX, completeY, x1_val, y1_val, epochs=epochs, learning_rate=learning_rate, shouldPlot=False):\n",
    "\n",
    "    W1, B1, W2, B2, W3, B3 = setupNN()\n",
    "    plot_test_sigmoid = []\n",
    "    plot_val_sigmoid = []\n",
    "    \n",
    "    parameters = {}\n",
    "    for k in range(0, epochs):\n",
    "        print('Epoch: ', k+1)\n",
    "\n",
    "        for j in range(0, int(completeX.shape[0]/batch_size)):\n",
    "            X = completeX[batch_size*j:batch_size*(j+1)]\n",
    "            y = completeY[batch_size*j:batch_size*(j+1)]\n",
    "\n",
    "            # Forward propagation\n",
    "\n",
    "            z1 = np.dot(X, W1) + B1\n",
    "\n",
    "            a1 = sigmoid(z1)\n",
    "\n",
    "            z2 = np.dot(a1, W2) + B2\n",
    "\n",
    "            a2 = sigmoid(z2)\n",
    "\n",
    "            z3 = np.dot(a2, W3) + B3\n",
    "            # Hypothesis\n",
    "            a3 = softmax(z3)\n",
    "\n",
    "            # Back propagation\n",
    "            delta4 = cross_entropy_loss(a3, y, len(X))\n",
    "\n",
    "            dW3 = np.dot(np.transpose(a2), delta4)\n",
    "            dB3 = np.sum(delta4, axis=0, keepdims=True)\n",
    "            dot = np.dot(delta4, np.transpose(W3))\n",
    "            deriv = sigmoid_derivative(a2)\n",
    "            delta3 = np.multiply(dot, deriv)\n",
    "\n",
    "            dW2 = np.dot(np.transpose(a1), delta3)\n",
    "            dB2 = np.sum(delta3, axis=0, keepdims=True)\n",
    "            dot = np.dot(delta3, np.transpose(W2))\n",
    "            deriv = sigmoid_derivative(a1)\n",
    "            delta2 = np.multiply(dot, deriv)\n",
    "\n",
    "            dW1 = np.dot(np.transpose(X), delta2)\n",
    "            dB1 = np.sum(delta2, axis=0, keepdims=True)\n",
    "\n",
    "            # Updating parameters\n",
    "\n",
    "            W1 += -learning_rate * dW1\n",
    "            B1 += -learning_rate * dB1\n",
    "            W2 += -learning_rate * dW2\n",
    "            B2 += -learning_rate * dB2\n",
    "            W3 += -learning_rate * dW3\n",
    "            B3 += -learning_rate * dB3\n",
    "\n",
    "            parameters = {'W1': W1, 'B1': B1, 'W2': W2, 'B2': B2, 'W3': W3, 'B3': B3}\n",
    "\n",
    "        X = completeX[batch_size*j:]\n",
    "        y = completeY[batch_size*j:]\n",
    "\n",
    "        # Forward propagation\n",
    "\n",
    "        z1 = np.dot(X, W1) + B1\n",
    "\n",
    "        a1 = sigmoid(z1)\n",
    "\n",
    "        z2 = np.dot(a1, W2) + B2\n",
    "\n",
    "        a2 = sigmoid(z2)\n",
    "\n",
    "        z3 = np.dot(a2, W3) + B3\n",
    "        # Hypothesis\n",
    "        a3 = softmax(z3)\n",
    "        print(a3)\n",
    "        # Back propagation\n",
    "        delta4 = cross_entropy_loss(a3, y, len(X))\n",
    "\n",
    "        dW3 = np.dot(np.transpose(a2), delta4)\n",
    "        dB3 = np.sum(delta4, axis=0, keepdims=True)\n",
    "        dot = np.dot(delta4, np.transpose(W3))\n",
    "        deriv = sigmoid_derivative(a2)\n",
    "        delta3 = np.multiply(dot, deriv)\n",
    "\n",
    "        dW2 = np.dot(np.transpose(a1), delta3)\n",
    "        dB2 = np.sum(delta3, axis=0, keepdims=True)\n",
    "        dot = np.dot(delta3, np.transpose(W2))\n",
    "        deriv = sigmoid_derivative(a1)\n",
    "        delta2 = np.multiply(dot, deriv)\n",
    "\n",
    "        dW1 = np.dot(np.transpose(X), delta2)\n",
    "        dB1 = np.sum(delta2, axis=0, keepdims=True)\n",
    "\n",
    "        # Updating parameters\n",
    "\n",
    "        W1 += -learning_rate * dW1\n",
    "        B1 += -learning_rate * dB1\n",
    "        W2 += -learning_rate * dW2\n",
    "        B2 += -learning_rate * dB2\n",
    "        W3 += -learning_rate * dW3\n",
    "        B3 += -learning_rate * dB3\n",
    "\n",
    "        parameters = {'W1': W1, 'B1': B1, 'W2': W2, 'B2': B2, 'W3': W3, 'B3': B3}\n",
    "        \n",
    "        if (shouldPlot):\n",
    "\n",
    "            prediction_test_sigmoid = sigmoid_prediction(parameters, completeX)\n",
    "            prediction_val_sigmoid = sigmoid_prediction(parameters, x1_val)\n",
    "\n",
    "            error_sigmoid_test = error_rate(prediction_test_sigmoid, completeY)\n",
    "            error_sigmoid_val = error_rate(prediction_val_sigmoid, y1_val)\n",
    "\n",
    "            plot_test_sigmoid.append(error_sigmoid_test*100)\n",
    "            plot_val_sigmoid.append(error_sigmoid_val*100)\n",
    "\n",
    "    if (shouldPlot):\n",
    "\n",
    "        plt.plot(range(1, epochs+1) ,plot_test_sigmoid)\n",
    "        plt.plot(range(1, epochs+1), plot_val_sigmoid)\n",
    "        plt.ylabel('Error Percentage- Sigmoid II')\n",
    "        plt.xlabel('Epochs')\n",
    "        plt.axis([1,epochs+1,0,100])\n",
    "        plt.savefig('sigmoid_2_error.png', bbox_inches='tight')\n",
    "        plt.show()\n",
    "\n",
    "    return parameters\n",
    "\n",
    "def sigmoid_prediction(parameters, X):\n",
    "    W1, B1, W2, B2, W3, B3 = parameters['W1'], parameters['B1'], parameters['W2'], parameters['B2'], parameters['W3'], parameters['B3']\n",
    "\n",
    "    z1 = np.dot(X, W1) + B1\n",
    "    a1 = sigmoid(z1)\n",
    "    z2 = np.dot(a1, W2) + B2\n",
    "    a2 = sigmoid(z2)\n",
    "    z3 = np.dot(a2, W3) + B3\n",
    "    a3 = softmax(z3)\n",
    "\n",
    "    return np.argmax(a3, axis=1)"
   ]
  },
  {
   "cell_type": "code",
   "execution_count": 18,
   "metadata": {},
   "outputs": [
    {
     "name": "stdout",
     "output_type": "stream",
     "text": [
      "Testing overfitting for 4-layer sigmoid\n",
      "Epoch:  1\n",
      "[[0.10442427 0.10327635 0.09645054 ... 0.09985726 0.1021178  0.10845901]\n",
      " [0.05776247 0.12286227 0.03421043 ... 0.21007765 0.04507905 0.07145469]\n",
      " [0.11002789 0.08748094 0.11625554 ... 0.07339775 0.11466088 0.10778422]\n",
      " ...\n",
      " [0.07271612 0.12564367 0.04849876 ... 0.18310559 0.06034413 0.08596484]\n",
      " [0.10712833 0.09737132 0.10413758 ... 0.08890722 0.10738122 0.10888634]\n",
      " [0.10879278 0.09250058 0.11019241 ... 0.08087446 0.1111886  0.10861886]]\n",
      "Epoch:  2\n",
      "[[0.14280477 0.08936169 0.12625287 ... 0.01082307 0.13614038 0.1120917 ]\n",
      " [0.0071484  0.05290643 0.00252576 ... 0.39969132 0.00822977 0.0451354 ]\n",
      " [0.14755162 0.04809686 0.16610658 ... 0.00234309 0.1293064  0.06452561]\n",
      " ...\n",
      " [0.05081037 0.14892716 0.02533002 ... 0.22282982 0.05520907 0.14875142]\n",
      " [0.14648061 0.07430109 0.13998439 ... 0.00660716 0.13632999 0.09552824]\n",
      " [0.14771872 0.06547909 0.14839925 ... 0.00480886 0.13519606 0.08541869]]\n"
     ]
    },
    {
     "data": {
      "image/png": "[encoded data removed]",
      "text/plain": [
       "<Figure size 432x288 with 1 Axes>"
      ]
     },
     "metadata": {},
     "output_type": "display_data"
    },
    {
     "name": "stdout",
     "output_type": "stream",
     "text": [
      "Success rate of the overfit test for Sigmoid is:  0.26275\n"
     ]
    }
   ],
   "source": [
    "# Testing for overfitting\n",
    "\n",
    "X1, y1 = getTrainSet()\n",
    "indices_generator = generate_sets(X1)\n",
    "learning_rate_overfit_sigmoid_1 = 0.0005\n",
    "\n",
    "for train_index, val_index in indices_generator:\n",
    "    print('Testing overfitting for 4-layer sigmoid')\n",
    "    x1_train = X1[train_index]\n",
    "    y1_train = y1[train_index]\n",
    "    x1_val = X1[val_index]\n",
    "    y1_val = y1[val_index]\n",
    "     \n",
    "    parameters_sigmoid_1 = sigmoid_model(x1_train, y1_train, x1_val, y1_val, epochs_for_overfit_test, learning_rate_overfit_sigmoid_1, shouldPlot=True)\n",
    "    \n",
    "    y1_predict_1 = sigmoid_prediction(parameters_sigmoid_1, x1_val)\n",
    "    success_sigmoid_1 = success_rate(y1_predict_1, y1_val)\n",
    "    print('Success rate of the overfit test for Sigmoid is: ', success_sigmoid_1)\n",
    "    break\n"
   ]
  },
  {
   "cell_type": "code",
   "execution_count": 19,
   "metadata": {},
   "outputs": [
    {
     "name": "stdout",
     "output_type": "stream",
     "text": [
      "Testing overfitting for 4-layer sigmoid\n",
      "Epoch:  1\n",
      "[[1.66189069e-01 6.51785680e-02 9.29235789e-02 ... 2.93743861e-02\n",
      "  1.53292369e-01 1.44828708e-01]\n",
      " [7.93542538e-05 1.26161067e-01 2.37770179e-02 ... 5.18737865e-01\n",
      "  4.34728693e-04 1.09044315e-03]\n",
      " [1.90668518e-01 5.62621974e-02 8.59723214e-02 ... 2.35065042e-02\n",
      "  1.65457752e-01 1.51170873e-01]\n",
      " ...\n",
      " [1.86058601e-02 1.67941473e-01 1.11515468e-01 ... 1.74389590e-01\n",
      "  3.36277271e-02 4.59438541e-02]\n",
      " [1.71111647e-01 6.32808328e-02 9.15189443e-02 ... 2.80766792e-02\n",
      "  1.55856501e-01 1.46236389e-01]\n",
      " [1.77755939e-01 6.08056643e-02 8.96271752e-02 ... 2.64241425e-02\n",
      "  1.59221752e-01 1.48027979e-01]]\n",
      "Epoch:  2\n",
      "[[1.76893337e-01 4.24824458e-02 1.06329521e-01 ... 8.88342702e-03\n",
      "  1.57887390e-01 1.40682199e-01]\n",
      " [1.09677364e-05 1.86085980e-01 5.00463726e-03 ... 5.20483430e-01\n",
      "  1.20922067e-04 8.70734115e-04]\n",
      " [1.94701005e-01 3.70285197e-02 1.01898379e-01 ... 7.33490956e-03\n",
      "  1.64883362e-01 1.40624887e-01]\n",
      " ...\n",
      " [6.57172328e-03 2.54610084e-01 8.08541164e-02 ... 1.73338394e-01\n",
      "  1.84265138e-02 4.25348721e-02]\n",
      " [1.77796789e-01 4.21840283e-02 1.06104926e-01 ... 8.79620061e-03\n",
      "  1.58260249e-01 1.40693737e-01]\n",
      " [1.76071834e-01 4.27559893e-02 1.06533626e-01 ... 8.96363157e-03\n",
      "  1.57546610e-01 1.40670423e-01]]\n"
     ]
    },
    {
     "data": {
      "image/png": "[encoded data removed]",
      "text/plain": [
       "<Figure size 432x288 with 1 Axes>"
      ]
     },
     "metadata": {},
     "output_type": "display_data"
    },
    {
     "name": "stdout",
     "output_type": "stream",
     "text": [
      "Success rate of the overfit test for Sigmoid is:  0.25566666666666665\n"
     ]
    }
   ],
   "source": [
    "# Testing for overfitting\n",
    "\n",
    "X1, y1 = getTrainSet()\n",
    "indices_generator = generate_sets(X1)\n",
    "learning_rate_overfit_sigmoid_2 = 0.001\n",
    "\n",
    "for train_index, val_index in indices_generator:\n",
    "    print('Testing overfitting for 4-layer sigmoid')\n",
    "    x1_train = X1[train_index]\n",
    "    y1_train = y1[train_index]\n",
    "    x1_val = X1[val_index]\n",
    "    y1_val = y1[val_index]\n",
    "     \n",
    "    parameters_sigmoid_2 = sigmoid_model(x1_train, y1_train, x1_val, y1_val, epochs_for_overfit_test, learning_rate_overfit_sigmoid_2, shouldPlot=True)\n",
    "    \n",
    "    y1_predict_2 = sigmoid_prediction(parameters_sigmoid_2, x1_val)\n",
    "    success_sigmoid_2 = success_rate(y1_predict_2, y1_val)\n",
    "    print('Success rate of the overfit test for Sigmoid is: ', success_sigmoid_2)\n",
    "    break\n"
   ]
  },
  {
   "cell_type": "code",
   "execution_count": 20,
   "metadata": {},
   "outputs": [
    {
     "name": "stdout",
     "output_type": "stream",
     "text": [
      "Testing overfitting for 4-layer sigmoid\n",
      "Epoch:  1\n",
      "[[0.07687715 0.13237417 0.09042218 ... 0.12376774 0.15798639 0.1651382 ]\n",
      " [0.08137855 0.12936667 0.09260317 ... 0.12389546 0.14724372 0.15358616]\n",
      " [0.07419261 0.13386093 0.08892926 ... 0.12353818 0.16405114 0.17171674]\n",
      " ...\n",
      " [0.08037835 0.1301033  0.09215387 ... 0.12390803 0.14969785 0.15621977]\n",
      " [0.07612885 0.13280913 0.09001995 ... 0.1237085  0.15970115 0.16699513]\n",
      " [0.07514539 0.13335537 0.08947644 ... 0.12362342 0.1619269  0.16940672]]\n",
      "Epoch:  2\n",
      "[[0.04957485 0.12139876 0.10701107 ... 0.11714242 0.13130061 0.17246134]\n",
      " [0.05295561 0.12287835 0.10060892 ... 0.12636232 0.12142662 0.15798613]\n",
      " [0.04738488 0.12037862 0.11037688 ... 0.11218074 0.13688796 0.18111224]\n",
      " ...\n",
      " [0.05222379 0.12259222 0.10210729 ... 0.12422425 0.1236794  0.16123342]\n",
      " [0.04897708 0.12111625 0.1079981  ... 0.11569394 0.13289687 0.17488539]\n",
      " [0.04818644 0.12074423 0.10922584 ... 0.11388657 0.13492668 0.17801648]]\n"
     ]
    },
    {
     "data": {
      "image/png": "[encoded data removed]",
      "text/plain": [
       "<Figure size 432x288 with 1 Axes>"
      ]
     },
     "metadata": {},
     "output_type": "display_data"
    },
    {
     "name": "stdout",
     "output_type": "stream",
     "text": [
      "Success rate of the overfit test for Sigmoid is:  0.09683333333333333\n"
     ]
    }
   ],
   "source": [
    "# Testing for overfitting\n",
    "\n",
    "X1, y1 = getTrainSet()\n",
    "indices_generator = generate_sets(X1)\n",
    "learning_rate_overfit_sigmoid_3 = 0.0002\n",
    "\n",
    "for train_index, val_index in indices_generator:\n",
    "    print('Testing overfitting for 4-layer sigmoid')\n",
    "    x1_train = X1[train_index]\n",
    "    y1_train = y1[train_index]\n",
    "    x1_val = X1[val_index]\n",
    "    y1_val = y1[val_index]\n",
    "     \n",
    "    parameters_sigmoid_3 = sigmoid_model(x1_train, y1_train, x1_val, y1_val, epochs_for_overfit_test, learning_rate_overfit_sigmoid_3, shouldPlot=True)\n",
    "    \n",
    "    y1_predict_3 = sigmoid_prediction(parameters_sigmoid_3, x1_val)\n",
    "    success_sigmoid_3 = success_rate(y1_predict_3, y1_val)\n",
    "    print('Success rate of the overfit test for Sigmoid is: ', success_sigmoid_3)\n",
    "    break\n"
   ]
  },
  {
   "cell_type": "code",
   "execution_count": 21,
   "metadata": {
    "scrolled": true
   },
   "outputs": [
    {
     "name": "stdout",
     "output_type": "stream",
     "text": [
      "K= 1\n",
      "Epoch:  1\n",
      "[[0.1153302  0.09510918 0.1032585  ... 0.07783371 0.11320882 0.11747519]\n",
      " [0.04777418 0.12275216 0.02664994 ... 0.23142718 0.03495436 0.06008813]\n",
      " [0.12217826 0.07151561 0.12717883 ... 0.04634132 0.13078296 0.11570627]\n",
      " ...\n",
      " [0.06688467 0.12954477 0.04189258 ... 0.19763894 0.05266983 0.07998736]\n",
      " [0.11874525 0.08650936 0.11217277 ... 0.06493401 0.12029775 0.11792779]\n",
      " [0.12097695 0.07843344 0.12029106 ... 0.05437654 0.12622427 0.11720606]]\n",
      "Epoch:  2\n",
      "[[0.14787362 0.0808454  0.12714636 ... 0.00730678 0.1398455  0.1103478 ]\n",
      " [0.00658385 0.05830761 0.00193159 ... 0.41103281 0.00756918 0.04763759]\n",
      " [0.14921859 0.03791484 0.17334063 ... 0.00117302 0.13002114 0.05758023]\n",
      " ...\n",
      " [0.04614463 0.15533277 0.01963029 ... 0.2303987  0.05006374 0.15354361]\n",
      " [0.15054996 0.06819814 0.13931969 ... 0.00469395 0.13983831 0.09579693]\n",
      " [0.15164286 0.05634656 0.1516644  ... 0.00292806 0.13802569 0.0814526 ]]\n",
      "Epoch:  3\n",
      "[[1.70775413e-01 9.00563923e-02 1.34744956e-01 ... 4.66711249e-04\n",
      "  1.42985314e-01 3.28353306e-02]\n",
      " [2.09741742e-03 4.73586331e-02 5.33791540e-04 ... 3.71532292e-01\n",
      "  1.04495983e-02 2.01393652e-01]\n",
      " [1.80371348e-01 3.22612450e-02 1.97818468e-01 ... 2.65800480e-05\n",
      "  8.81783451e-02 5.98246289e-03]\n",
      " ...\n",
      " [4.56132164e-02 1.97121409e-01 1.90688406e-02 ... 5.50244591e-02\n",
      "  1.04709543e-01 2.80676895e-01]\n",
      " [1.70877707e-01 8.98057461e-02 1.34965514e-01 ... 4.62227545e-04\n",
      "  1.42847190e-01 3.26705821e-02]\n",
      " [1.74258690e-01 8.14087015e-02 1.42652429e-01 ... 3.39926480e-04\n",
      "  1.37509646e-01 2.74883657e-02]]\n",
      "Epoch:  4\n",
      "[[1.81107273e-01 9.36179861e-02 1.29654556e-01 ... 4.46220491e-05\n",
      "  1.44658417e-01 5.67217169e-03]\n",
      " [1.04929287e-03 6.86451172e-02 1.88609407e-04 ... 1.82737506e-01\n",
      "  1.97062067e-02 3.73662595e-01]\n",
      " [1.94549706e-01 2.28512228e-02 2.13905961e-01 ... 1.10050532e-06\n",
      "  5.82943920e-02 3.88202920e-04]\n",
      " ...\n",
      " [3.66771578e-02 2.60430395e-01 1.23963672e-02 ... 1.15192595e-02\n",
      "  1.62650548e-01 1.72587167e-01]\n",
      " [1.68586540e-01 1.17329614e-01 1.10790786e-01 ... 9.07902660e-05\n",
      "  1.63795568e-01 9.24656703e-03]\n",
      " [1.66691334e-01 1.20681635e-01 1.08321938e-01 ... 9.96313839e-05\n",
      "  1.66244712e-01 9.85324907e-03]]\n",
      "Epoch:  5\n",
      "[[1.84591812e-01 9.76111333e-02 1.18089787e-01 ... 1.12214046e-05\n",
      "  1.47842106e-01 1.30746824e-03]\n",
      " [5.84624788e-04 8.71578600e-02 7.02004581e-05 ... 1.01534615e-01\n",
      "  2.97442914e-02 3.68565169e-01]\n",
      " [2.00611933e-01 1.66729289e-02 2.24026270e-01 ... 1.42509576e-07\n",
      "  4.06995087e-02 3.98390849e-05]\n",
      " ...\n",
      " [2.62539511e-02 3.00777407e-01 6.72468248e-03 ... 4.54721979e-03\n",
      "  2.02804205e-01 8.75128984e-02]\n",
      " [1.56360669e-01 1.43108763e-01 8.48840312e-02 ... 3.65668192e-05\n",
      "  1.88106690e-01 3.23599453e-03]\n",
      " [1.36637224e-01 1.73079396e-01 6.73330030e-02 ... 7.19506602e-05\n",
      "  2.09158800e-01 5.36862560e-03]]\n",
      "Epoch:  6\n",
      "[[1.85949025e-01 1.00078198e-01 1.07203467e-01 ... 4.61265547e-06\n",
      "  1.50915247e-01 4.12565413e-04]\n",
      " [4.05583338e-04 9.61247565e-02 3.54993959e-05 ... 7.63103856e-02\n",
      "  3.64115644e-02 2.84660900e-01]\n",
      " [2.03290685e-01 1.29937508e-02 2.28954412e-01 ... 3.63631414e-08\n",
      "  3.07783882e-02 6.68057503e-06]\n",
      " ...\n",
      " [1.88978287e-02 3.19999723e-01 3.73207830e-03 ... 3.11681064e-03\n",
      "  2.22102353e-01 5.12246211e-02]\n",
      " [1.46218253e-01 1.58205249e-01 6.76837748e-02 ... 1.66888262e-05\n",
      "  2.07453567e-01 1.26111563e-03]\n",
      " [9.93146182e-02 2.27384788e-01 3.63980748e-02 ... 6.58935879e-05\n",
      "  2.54863542e-01 3.84058614e-03]]\n",
      "Epoch:  7\n",
      "[[1.83795176e-01 9.98248631e-02 9.74067411e-02 ... 2.25480975e-06\n",
      "  1.59742968e-01 2.28436433e-04]\n",
      " [4.80217956e-04 7.32876304e-02 4.19821152e-05 ... 8.69592312e-02\n",
      "  2.02967005e-02 6.29817576e-02]\n",
      " [2.04302037e-01 1.18993866e-02 2.24813286e-01 ... 1.42933033e-08\n",
      "  2.94361179e-02 2.99488038e-06]\n",
      " ...\n",
      " [1.64308355e-02 3.15324111e-01 2.78068505e-03 ... 5.24532002e-03\n",
      "  1.73309153e-01 2.95182111e-02]\n",
      " [1.13221635e-01 1.74438886e-01 4.18028479e-02 ... 5.72651161e-06\n",
      "  2.85683762e-01 1.03077556e-03]\n",
      " [4.72651397e-02 2.68586676e-01 1.13207353e-02 ... 3.23162514e-05\n",
      "  3.79686611e-01 5.74196488e-03]]\n",
      "Epoch:  8\n",
      "[[1.58627144e-01 9.96475967e-02 6.41574340e-02 ... 8.55607211e-07\n",
      "  2.23921373e-01 2.21728607e-04]\n",
      " [2.50561286e-04 6.47943945e-02 1.55371065e-05 ... 9.95327127e-02\n",
      "  4.18982215e-03 9.95487888e-03]\n",
      " [2.05571929e-01 9.44508708e-03 2.17201577e-01 ... 4.60071882e-09\n",
      "  2.63152571e-02 1.77332749e-06]\n",
      " ...\n",
      " [1.09020212e-02 3.74236476e-01 1.28288490e-03 ... 9.68520777e-03\n",
      "  7.23413980e-02 1.27995385e-02]\n",
      " [6.17155615e-02 1.19138549e-01 1.51618184e-02 ... 1.25836617e-06\n",
      "  4.96430772e-01 1.09150986e-03]\n",
      " [1.06604512e-02 1.28826689e-01 1.28221417e-03 ... 6.05898773e-06\n",
      "  6.98825498e-01 8.74593766e-03]]\n",
      "Epoch:  9\n",
      "[[9.13223147e-02 6.79747162e-02 2.61641473e-02 ... 3.83190993e-07\n",
      "  4.41915327e-01 3.41476137e-04]\n",
      " [1.12529703e-04 7.75881398e-02 3.84793984e-06 ... 1.01945408e-01\n",
      "  1.73805613e-03 6.84941147e-03]\n",
      " [2.02463373e-01 7.27614517e-03 2.15095625e-01 ... 1.67399610e-09\n",
      "  2.00423379e-02 9.54618845e-07]\n",
      " ...\n",
      " [7.88412356e-03 4.59511604e-01 6.26746873e-04 ... 8.27263919e-03\n",
      "  3.53531187e-02 7.43441727e-03]\n",
      " [2.34020564e-02 4.27716338e-02 4.18981284e-03 ... 4.13202321e-07\n",
      "  7.51988750e-01 1.06288327e-03]\n",
      " [1.66343400e-03 2.12316317e-02 1.25634047e-04 ... 1.50317424e-06\n",
      "  9.23404972e-01 7.80586965e-03]]\n",
      "Epoch:  10\n",
      "[[4.68229558e-02 2.21787267e-02 1.27231603e-02 ... 1.30789152e-07\n",
      "  6.58229702e-01 3.04317732e-04]\n",
      " [7.33995505e-05 8.44536544e-02 1.57170751e-06 ... 1.05858980e-01\n",
      "  1.23231654e-03 7.31478673e-03]\n",
      " [1.91705450e-01 4.58896189e-03 2.19779705e-01 ... 5.74556723e-10\n",
      "  1.69964580e-02 4.70787181e-07]\n",
      " ...\n",
      " [7.31894048e-03 5.29478071e-01 4.24126009e-04 ... 5.80497223e-03\n",
      "  2.18430533e-02 4.99554887e-03]\n",
      " [9.26143935e-03 9.72725430e-03 1.60485722e-03 ... 1.32746661e-07\n",
      "  8.80383430e-01 7.60346927e-04]\n",
      " [5.23453557e-04 3.03144904e-03 4.03599358e-05 ... 4.53152389e-07\n",
      "  9.71383619e-01 4.84335803e-03]]\n",
      "Epoch:  11\n",
      "[[2.26201891e-02 3.13841822e-03 9.42029671e-03 ... 4.68979053e-08\n",
      "  7.92596938e-01 2.03416571e-04]\n",
      " [7.93571864e-05 7.11196584e-02 1.49114389e-06 ... 1.03191856e-01\n",
      "  1.53041243e-03 9.19639518e-03]\n",
      " [1.62949757e-01 1.69694731e-03 2.33183681e-01 ... 2.43643854e-10\n",
      "  1.84649056e-02 2.77251094e-07]\n",
      " ...\n",
      " [7.54991042e-03 5.92146165e-01 2.98591184e-04 ... 4.61168859e-03\n",
      "  9.41368157e-03 2.70390204e-03]\n",
      " [4.12706381e-03 1.38670554e-03 1.01361192e-03 ... 5.98886868e-08\n",
      "  9.28038825e-01 5.64357824e-04]\n",
      " [2.85502687e-04 3.45319984e-04 4.02128124e-05 ... 2.12985080e-07\n",
      "  9.82249828e-01 3.05454203e-03]]\n",
      "Epoch:  12\n",
      "[[1.03360019e-02 2.68150806e-04 2.04546851e-02 ... 3.45133794e-08\n",
      "  8.05318221e-01 1.53497434e-04]\n",
      " [8.85584354e-05 1.79391406e-02 6.77615294e-06 ... 7.71351083e-02\n",
      "  3.23045824e-03 1.01811320e-02]\n",
      " [9.84601118e-02 2.85380580e-04 2.77167692e-01 ... 2.06674080e-10\n",
      "  1.98900503e-02 2.57501983e-07]\n",
      " ...\n",
      " [7.05198165e-03 7.10037882e-01 1.15394114e-04 ... 7.57416082e-03\n",
      "  1.82169543e-03 1.65742221e-03]\n",
      " [1.56445615e-03 1.41896759e-04 1.18607692e-03 ... 5.25054503e-08\n",
      "  9.43506141e-01 6.99918406e-04]\n",
      " [1.77215799e-04 3.44019511e-05 1.59708134e-04 ... 1.92815230e-07\n",
      "  9.85000113e-01 2.44217138e-03]]\n",
      "Epoch:  13\n"
     ]
    },
    {
     "ename": "KeyboardInterrupt",
     "evalue": "",
     "output_type": "error",
     "traceback": [
      "\u001b[0;31m---------------------------------------------------------------------------\u001b[0m",
      "\u001b[0;31mKeyboardInterrupt\u001b[0m                         Traceback (most recent call last)",
      "\u001b[0;32m<ipython-input-21-ec4dc13135e1>\u001b[0m in \u001b[0;36m<module>\u001b[0;34m()\u001b[0m\n\u001b[1;32m     13\u001b[0m     \u001b[0my1_val\u001b[0m \u001b[0;34m=\u001b[0m \u001b[0my1\u001b[0m\u001b[0;34m[\u001b[0m\u001b[0mval_index\u001b[0m\u001b[0;34m]\u001b[0m\u001b[0;34m\u001b[0m\u001b[0m\n\u001b[1;32m     14\u001b[0m \u001b[0;34m\u001b[0m\u001b[0m\n\u001b[0;32m---> 15\u001b[0;31m     \u001b[0mparameters\u001b[0m \u001b[0;34m=\u001b[0m \u001b[0msigmoid_model\u001b[0m\u001b[0;34m(\u001b[0m\u001b[0mx1_train\u001b[0m\u001b[0;34m,\u001b[0m \u001b[0my1_train\u001b[0m\u001b[0;34m,\u001b[0m \u001b[0mx1_val\u001b[0m\u001b[0;34m,\u001b[0m \u001b[0my1_val\u001b[0m\u001b[0;34m)\u001b[0m\u001b[0;34m\u001b[0m\u001b[0m\n\u001b[0m\u001b[1;32m     16\u001b[0m     \u001b[0mmodel_list\u001b[0m\u001b[0;34m.\u001b[0m\u001b[0mappend\u001b[0m\u001b[0;34m(\u001b[0m\u001b[0mparameters\u001b[0m\u001b[0;34m)\u001b[0m\u001b[0;34m\u001b[0m\u001b[0m\n\u001b[1;32m     17\u001b[0m \u001b[0;34m\u001b[0m\u001b[0m\n",
      "\u001b[0;32m<ipython-input-17-a41b173f1ef7>\u001b[0m in \u001b[0;36msigmoid_model\u001b[0;34m(completeX, completeY, x1_val, y1_val, epochs, learning_rate, shouldPlot)\u001b[0m\n\u001b[1;32m     18\u001b[0m             \u001b[0;31m# Forward propagation\u001b[0m\u001b[0;34m\u001b[0m\u001b[0;34m\u001b[0m\u001b[0m\n\u001b[1;32m     19\u001b[0m \u001b[0;34m\u001b[0m\u001b[0m\n\u001b[0;32m---> 20\u001b[0;31m             \u001b[0mz1\u001b[0m \u001b[0;34m=\u001b[0m \u001b[0mnp\u001b[0m\u001b[0;34m.\u001b[0m\u001b[0mdot\u001b[0m\u001b[0;34m(\u001b[0m\u001b[0mX\u001b[0m\u001b[0;34m,\u001b[0m \u001b[0mW1\u001b[0m\u001b[0;34m)\u001b[0m \u001b[0;34m+\u001b[0m \u001b[0mB1\u001b[0m\u001b[0;34m\u001b[0m\u001b[0m\n\u001b[0m\u001b[1;32m     21\u001b[0m \u001b[0;34m\u001b[0m\u001b[0m\n\u001b[1;32m     22\u001b[0m             \u001b[0ma1\u001b[0m \u001b[0;34m=\u001b[0m \u001b[0msigmoid\u001b[0m\u001b[0;34m(\u001b[0m\u001b[0mz1\u001b[0m\u001b[0;34m)\u001b[0m\u001b[0;34m\u001b[0m\u001b[0m\n",
      "\u001b[0;31mKeyboardInterrupt\u001b[0m: "
     ]
    }
   ],
   "source": [
    "X1, y1 = getTrainSet()\n",
    "indices_generator = generate_sets(X1)\n",
    "model_list = []\n",
    "result_list = []\n",
    "\n",
    "i=0\n",
    "for train_index, val_index in indices_generator:\n",
    "    print(\"K=\",i+1)\n",
    "    \n",
    "    x1_train = X1[train_index]\n",
    "    y1_train = y1[train_index]\n",
    "    x1_val = X1[val_index]\n",
    "    y1_val = y1[val_index]\n",
    "     \n",
    "    parameters = sigmoid_model(x1_train, y1_train, x1_val, y1_val)\n",
    "    model_list.append(parameters)\n",
    "    \n",
    "    y1_predict = sigmoid_prediction(parameters, x1_val)\n",
    "    success = success_rate(y1_predict, y1_val)\n",
    "    result_list.append(success)\n",
    "    \n",
    "    i += 1\n",
    "\n",
    "for i in range(0, len(result_list)):\n",
    "    print('Success rate for set', i, ' is: ', result_list[i])"
   ]
  },
  {
   "cell_type": "markdown",
   "metadata": {},
   "source": [
    "## ReLU"
   ]
  },
  {
   "cell_type": "code",
   "execution_count": 27,
   "metadata": {},
   "outputs": [],
   "source": [
    "import numpy as np\n",
    "import matplotlib.pyplot as plt\n",
    "\n",
    "def relu_model(completeX, completeY, x2_val, y2_val, epochs=epochs, learning_rate=learning_rate, shouldPlot=False):\n",
    "\n",
    "    W1, B1, W2, B2, W3, B3 = setupNN()\n",
    "    plot_test_relu = []\n",
    "    plot_val_relu = []\n",
    "    \n",
    "    parameters = {}\n",
    "    \n",
    "    for k in range(0, epochs):\n",
    "        for j in range(0, int(completeX.shape[0]/batch_size)):\n",
    "            X = completeX[500*j:500*(j+1)]\n",
    "            y = completeY[500*j:500*(j+1)]\n",
    "\n",
    "            # Forward propagation\n",
    "\n",
    "            z1 = np.dot(X, W1) + B1\n",
    "\n",
    "            a1 = ReLU(z1)\n",
    "\n",
    "            z2 = np.dot(a1, W2) + B2\n",
    "\n",
    "            a2 = ReLU(z2)\n",
    "\n",
    "            z3 = np.dot(a2, W3) + B3\n",
    "\n",
    "            # Hypothesis\n",
    "            a3 = softmax(z3)\n",
    "\n",
    "            # Back propagation\n",
    "            delta4 = cross_entropy_loss(a3, y, len(X))\n",
    "\n",
    "            dW3 = np.dot(np.transpose(a2), delta4)\n",
    "            dB3 = np.sum(delta4, axis=0, keepdims=True)\n",
    "            dot = np.dot(delta4, np.transpose(W3))\n",
    "            deriv = ReLU_derivative(a2)\n",
    "            delta3 = np.multiply(dot, deriv)\n",
    "\n",
    "            dW2 = np.dot(np.transpose(a1), delta3)\n",
    "            dB2 = np.sum(delta3, axis=0, keepdims=True)\n",
    "            dot = np.dot(delta3, np.transpose(W2))\n",
    "            deriv = ReLU_derivative(z1)\n",
    "            delta2 = np.multiply(dot, deriv)\n",
    "\n",
    "            dW1 = np.dot(np.transpose(X), delta2)\n",
    "            dB1 = np.sum(delta2, axis=0, keepdims=True)\n",
    "\n",
    "            # Updating parameters\n",
    "\n",
    "            W1 += -learning_rate * dW1\n",
    "            B1 += -learning_rate * dB1\n",
    "            W2 += -learning_rate * dW2\n",
    "            B2 += -learning_rate * dB2\n",
    "            W3 += -learning_rate * dW3\n",
    "            B3 += -learning_rate * dB3\n",
    "\n",
    "            parameters = {'W1': W1, 'B1': B1, 'W2': W2, 'B2': B2, 'W3': W3, 'B3': B3}\n",
    "\n",
    "        X = completeX[batch_size*j:]\n",
    "        y = completeY[batch_size*j:]\n",
    "        \n",
    "        # Forward propagation\n",
    "\n",
    "        z1 = np.dot(X, W1) + B1\n",
    "\n",
    "        a1 = ReLU(z1)\n",
    "\n",
    "        z2 = np.dot(a1, W2) + B2\n",
    "\n",
    "        a2 = ReLU(z2)\n",
    "\n",
    "        z3 = np.dot(a2, W3) + B3\n",
    "\n",
    "        # Hypothesis\n",
    "        a3 = softmax(z3)\n",
    "\n",
    "        # Back propagation\n",
    "        delta4 = cross_entropy_loss(a3, y, len(X))\n",
    "\n",
    "        dW3 = np.dot(np.transpose(a2), delta4)\n",
    "        dB3 = np.sum(delta4, axis=0, keepdims=True)\n",
    "        dot = np.dot(delta4, np.transpose(W3))\n",
    "        deriv = ReLU_derivative(a2)\n",
    "        delta3 = np.multiply(dot, deriv)\n",
    "\n",
    "        dW2 = np.dot(np.transpose(a1), delta3)\n",
    "        dB2 = np.sum(delta3, axis=0, keepdims=True)\n",
    "        dot = np.dot(delta3, np.transpose(W2))\n",
    "        deriv = ReLU_derivative(z1)\n",
    "        delta2 = np.multiply(dot, deriv)\n",
    "\n",
    "        dW1 = np.dot(np.transpose(X), delta2)\n",
    "        dB1 = np.sum(delta2, axis=0, keepdims=True)\n",
    "\n",
    "        # Updating parameters\n",
    "\n",
    "        W1 += -learning_rate * dW1\n",
    "        B1 += -learning_rate * dB1\n",
    "        W2 += -learning_rate * dW2\n",
    "        B2 += -learning_rate * dB2\n",
    "        W3 += -learning_rate * dW3\n",
    "        B3 += -learning_rate * dB3\n",
    "\n",
    "        parameters = {'W1': W1, 'B1': B1, 'W2': W2, 'B2': B2, 'W3': W3, 'B3': B3}\n",
    "        \n",
    "        if (shouldPlot):\n",
    "\n",
    "            prediction_test_relu = relu_prediction(parameters, completeX)\n",
    "            prediction_val_relu = relu_prediction(parameters, x2_val)\n",
    "\n",
    "            error_relu_test = error_rate(prediction_test_relu, completeY)\n",
    "            error_relu_val = error_rate(prediction_val_relu, y2_val)\n",
    "\n",
    "            plot_test_relu.append(error_relu_test*100)\n",
    "            plot_val_relu.append(error_relu_val*100)\n",
    "\n",
    "    if (shouldPlot):\n",
    "\n",
    "        plt.plot(range(1, epochs+1) ,plot_test_relu)\n",
    "        plt.plot(range(1, epochs+1), plot_val_relu)\n",
    "        plt.ylabel('Error Percentage - ReLU II')\n",
    "        plt.xlabel('Epochs')\n",
    "        plt.axis([1,epochs+1,0,100])\n",
    "        plt.savefig('relu_2_error.png', bbox_inches='tight')\n",
    "        plt.show()\n",
    "    \n",
    "    return parameters\n",
    "\n",
    "def relu_prediction(parameters, X):\n",
    "    W1, B1, W2, B2, W3, B3 = parameters['W1'], parameters['B1'], parameters['W2'], parameters['B2'], parameters['W3'], parameters['B3']\n",
    "\n",
    "    z1 = np.dot(X, W1) + B1\n",
    "    a1 = ReLU(z1)\n",
    "    z2 = np.dot(a1, W2) + B2\n",
    "    a2 = ReLU(z2)\n",
    "    z3 = np.dot(a2, W3) + B3\n",
    "    a3 = softmax(z3)\n",
    "\n",
    "    return np.argmax(a3, axis=1)"
   ]
  },
  {
   "cell_type": "code",
   "execution_count": 28,
   "metadata": {},
   "outputs": [
    {
     "name": "stdout",
     "output_type": "stream",
     "text": [
      "Testing overfitting for 4-layer ReLU\n"
     ]
    },
    {
     "data": {
      "image/png": "[encoded data removed]",
      "text/plain": [
       "<Figure size 432x288 with 1 Axes>"
      ]
     },
     "metadata": {},
     "output_type": "display_data"
    },
    {
     "name": "stdout",
     "output_type": "stream",
     "text": [
      "Success rate of the overfit test for ReLU is:  0.10091666666666667\n"
     ]
    }
   ],
   "source": [
    "# Testing for overfitting\n",
    "\n",
    "X2, y2 = getTrainSet()\n",
    "indices_generator = generate_sets(X2)\n",
    "learning_rate_overfit_relu_1 = 0.0005\n",
    "\n",
    "for train_index, val_index in indices_generator:\n",
    "    print('Testing overfitting for 4-layer ReLU')\n",
    "    x2_train = X2[train_index]\n",
    "    y2_train = y2[train_index]\n",
    "    x2_val = X2[val_index]\n",
    "    y2_val = y2[val_index]\n",
    "     \n",
    "    parameters = relu_model(x2_train, y2_train, x2_val, y2_val, epochs_for_overfit_test, learning_rate_overfit_relu_1, shouldPlot=True)\n",
    "    \n",
    "    y2_predict = relu_prediction(parameters, x2_val)\n",
    "    success_relu = success_rate(y2_predict, y2_val)\n",
    "    print('Success rate of the overfit test for ReLU is: ', success_relu)\n",
    "    break\n"
   ]
  },
  {
   "cell_type": "code",
   "execution_count": 29,
   "metadata": {},
   "outputs": [
    {
     "name": "stdout",
     "output_type": "stream",
     "text": [
      "Testing overfitting for 4-layer ReLU\n"
     ]
    },
    {
     "data": {
      "image/png": "[encoded data removed]",
      "text/plain": [
       "<Figure size 432x288 with 1 Axes>"
      ]
     },
     "metadata": {},
     "output_type": "display_data"
    },
    {
     "name": "stdout",
     "output_type": "stream",
     "text": [
      "Success rate of the overfit test for ReLU is:  0.09683333333333333\n"
     ]
    }
   ],
   "source": [
    "# Testing for overfitting\n",
    "\n",
    "X2, y2 = getTrainSet()\n",
    "indices_generator = generate_sets(X2)\n",
    "learning_rate_overfit_relu_2 = 0.001\n",
    "\n",
    "for train_index, val_index in indices_generator:\n",
    "    print('Testing overfitting for 4-layer ReLU')\n",
    "    x2_train = X2[train_index]\n",
    "    y2_train = y2[train_index]\n",
    "    x2_val = X2[val_index]\n",
    "    y2_val = y2[val_index]\n",
    "     \n",
    "    parameters = relu_model(x2_train, y2_train, x2_val, y2_val, epochs_for_overfit_test, learning_rate_overfit_relu_2, shouldPlot=True)\n",
    "    \n",
    "    y2_predict = relu_prediction(parameters, x2_val)\n",
    "    success_relu = success_rate(y2_predict, y2_val)\n",
    "    print('Success rate of the overfit test for ReLU is: ', success_relu)\n",
    "    break\n"
   ]
  },
  {
   "cell_type": "code",
   "execution_count": 30,
   "metadata": {},
   "outputs": [
    {
     "name": "stdout",
     "output_type": "stream",
     "text": [
      "Testing overfitting for 4-layer ReLU\n"
     ]
    },
    {
     "data": {
      "image/png": "[encoded data removed]",
      "text/plain": [
       "<Figure size 432x288 with 1 Axes>"
      ]
     },
     "metadata": {},
     "output_type": "display_data"
    },
    {
     "name": "stdout",
     "output_type": "stream",
     "text": [
      "Success rate of the overfit test for ReLU is:  0.09683333333333333\n"
     ]
    }
   ],
   "source": [
    "# Testing for overfitting\n",
    "\n",
    "X2, y2 = getTrainSet()\n",
    "indices_generator = generate_sets(X2)\n",
    "learning_rate_overfit_relu_3 = 0.002 \n",
    "\n",
    "for train_index, val_index in indices_generator:\n",
    "    print('Testing overfitting for 4-layer ReLU')\n",
    "    x2_train = X2[train_index]\n",
    "    y2_train = y2[train_index]\n",
    "    x2_val = X2[val_index]\n",
    "    y2_val = y2[val_index]\n",
    "     \n",
    "    parameters = relu_model(x2_train, y2_train, x2_val, y2_val, epochs_for_overfit_test, learning_rate_overfit_relu_3, shouldPlot=True)\n",
    "    \n",
    "    y2_predict = relu_prediction(parameters, x2_val)\n",
    "    success_relu = success_rate(y2_predict, y2_val)\n",
    "    print('Success rate of the overfit test for ReLU is: ', success_relu)\n",
    "    break\n"
   ]
  },
  {
   "cell_type": "code",
   "execution_count": null,
   "metadata": {},
   "outputs": [],
   "source": [
    "X2, y2 = getTrainSet()\n",
    "indices_generator = generate_sets(X2)\n",
    "model_list_relu = []\n",
    "result_list_relu = []\n",
    "\n",
    "i=0\n",
    "for train_index, val_index in indices_generator:\n",
    "    print(\"K=\",i+1)\n",
    "\n",
    "    x2_train = X2[train_index]\n",
    "    y2_train = y2[train_index]\n",
    "    x2_val = X2[val_index]\n",
    "    y2_val = y2[val_index]\n",
    "     \n",
    "    parameters = relu_model(x2_train, y2_train, x2_val, y2_val)\n",
    "    model_list_relu.append(parameters)\n",
    "    \n",
    "    y2_predict = relu_prediction(parameters, x2_val)\n",
    "    success = success_rate(y2_predict, y2_val)\n",
    "    result_list_relu.append(success)\n",
    "    \n",
    "    i += 1\n",
    "\n",
    "for i in range(0, len(result_list)):\n",
    "    print('Success rate for set', i, ' is: ', result_list[i])"
   ]
  },
  {
   "cell_type": "markdown",
   "metadata": {},
   "source": [
    "## Leaky ReLU"
   ]
  },
  {
   "cell_type": "code",
   "execution_count": 22,
   "metadata": {},
   "outputs": [],
   "source": [
    "import numpy as np\n",
    "import matplotlib.pyplot as plt\n",
    "\n",
    "def leaky_relu_model(completeX, completeY, x3_val, y3_val, epochs=epochs, learning_rate=learning_rate, shouldPlot=False):\n",
    "\n",
    "    W1, B1, W2, B2, W3, B3 = setupNN()\n",
    "    plot_test_leaky = []\n",
    "    plot_val_leaky = []\n",
    "    \n",
    "    parameters = {}\n",
    "\n",
    "    for k in range(0, epochs):\n",
    "        for j in range(0, int(completeX.shape[0]/batch_size)):\n",
    "            X = completeX[500*j:500*(j+1)]\n",
    "            y = completeY[500*j:500*(j+1)]\n",
    "            \n",
    "            # Forward propagation\n",
    "\n",
    "            z1 = np.dot(X, W1) + B1\n",
    "\n",
    "            a1 = leaky_ReLU(z1)\n",
    "\n",
    "            z2 = np.dot(a1, W2) + B2\n",
    "\n",
    "            a2 = leaky_ReLU(z2)\n",
    "\n",
    "            z3 = np.dot(a2, W3) + B3\n",
    "\n",
    "            # Hypothesis\n",
    "            a3 = softmax(z3)\n",
    "\n",
    "            # Back propagation\n",
    "            delta4 = cross_entropy_loss(a3, y, len(X))\n",
    "\n",
    "            dW3 = np.dot(np.transpose(a2), delta4)\n",
    "            dB3 = np.sum(delta4, axis=0, keepdims=True)\n",
    "            dot = np.dot(delta4, np.transpose(W3))\n",
    "            deriv = leaky_ReLU_derivative(a2)\n",
    "            delta3 = np.multiply(dot, deriv)\n",
    "\n",
    "            dW2 = np.dot(np.transpose(a1), delta3)\n",
    "            dB2 = np.sum(delta3, axis=0, keepdims=True)\n",
    "            dot = np.dot(delta3, np.transpose(W2))\n",
    "            deriv = leaky_ReLU_derivative(z1)\n",
    "            delta2 = np.multiply(dot, deriv)\n",
    "\n",
    "            dW1 = np.dot(np.transpose(X), delta2)\n",
    "            dB1 = np.sum(delta2, axis=0, keepdims=True)\n",
    "\n",
    "            # Updating parameters\n",
    "\n",
    "            W1 += -learning_rate * dW1\n",
    "            B1 += -learning_rate * dB1\n",
    "            W2 += -learning_rate * dW2\n",
    "            B2 += -learning_rate * dB2\n",
    "            W3 += -learning_rate * dW3\n",
    "            B3 += -learning_rate * dB3\n",
    "\n",
    "            parameters = {'W1': W1, 'B1': B1, 'W2': W2, 'B2': B2, 'W3': W3, 'B3': B3}\n",
    "\n",
    "        X = completeX[batch_size*j:]\n",
    "        y = completeY[batch_size*j:]\n",
    "                   \n",
    "        # Forward propagation\n",
    "\n",
    "        z1 = np.dot(X, W1) + B1\n",
    "\n",
    "        a1 = leaky_ReLU(z1)\n",
    "\n",
    "        z2 = np.dot(a1, W2) + B2\n",
    "\n",
    "        a2 = leaky_ReLU(z2)\n",
    "\n",
    "        z3 = np.dot(a2, W3) + B3\n",
    "\n",
    "        # Hypothesis\n",
    "        a3 = softmax(z3)\n",
    "\n",
    "        # Back propagation\n",
    "        delta4 = cross_entropy_loss(a3, y, len(X))\n",
    "\n",
    "        dW3 = np.dot(np.transpose(a2), delta4)\n",
    "        dB3 = np.sum(delta4, axis=0, keepdims=True)\n",
    "        dot = np.dot(delta4, np.transpose(W3))\n",
    "        deriv = leaky_ReLU_derivative(a2)\n",
    "        delta3 = np.multiply(dot, deriv)\n",
    "\n",
    "        dW2 = np.dot(np.transpose(a1), delta3)\n",
    "        dB2 = np.sum(delta3, axis=0, keepdims=True)\n",
    "        dot = np.dot(delta3, np.transpose(W2))\n",
    "        deriv = leaky_ReLU_derivative(z1)\n",
    "        delta2 = np.multiply(dot, deriv)\n",
    "\n",
    "        dW1 = np.dot(np.transpose(X), delta2)\n",
    "        dB1 = np.sum(delta2, axis=0, keepdims=True)\n",
    "\n",
    "        # Updating parameters\n",
    "\n",
    "        W1 += -learning_rate * dW1\n",
    "        B1 += -learning_rate * dB1\n",
    "        W2 += -learning_rate * dW2\n",
    "        B2 += -learning_rate * dB2\n",
    "        W3 += -learning_rate * dW3\n",
    "        B3 += -learning_rate * dB3\n",
    "\n",
    "        parameters = {'W1': W1, 'B1': B1, 'W2': W2, 'B2': B2, 'W3': W3, 'B3': B3}\n",
    "        \n",
    "        if (shouldPlot):\n",
    "\n",
    "            prediction_test_leaky = leaky_relu_prediction(parameters, completeX)\n",
    "            prediction_val_leaky = leaky_relu_prediction(parameters, x3_val)\n",
    "\n",
    "            error_leaky_test = error_rate(prediction_test_leaky, completeY)\n",
    "            error_leaky_val = error_rate(prediction_val_leaky, y3_val)\n",
    "\n",
    "            plot_test_leaky.append(error_leaky_test*100)\n",
    "            plot_val_leaky.append(error_leaky_val*100)\n",
    "\n",
    "    if (shouldPlot):\n",
    "\n",
    "        plt.plot(range(1, epochs+1) ,plot_test_leaky)\n",
    "        plt.plot(range(1, epochs+1), plot_val_leaky)\n",
    "        plt.ylabel('Error Percentage - Leaky ReLU II')\n",
    "        plt.xlabel('Epochs')\n",
    "        plt.axis([1,epochs+1,0,100])\n",
    "        plt.savefig('leaky_2_error.png', bbox_inches='tight')\n",
    "        plt.show()\n",
    "\n",
    "    return parameters\n",
    "\n",
    "def leaky_relu_prediction(parameters, X):\n",
    "    W1, B1, W2, B2, W3, B3 = parameters['W1'], parameters['B1'], parameters['W2'], parameters['B2'], parameters['W3'], parameters['B3']\n",
    "\n",
    "    z1 = np.dot(X, W1) + B1\n",
    "    a1 = leaky_ReLU(z1)\n",
    "    z2 = np.dot(a1, W2) + B2\n",
    "    a2 = leaky_ReLU(z2)\n",
    "    z3 = np.dot(a2, W3) + B3\n",
    "    a3 = softmax(z3)\n",
    "\n",
    "    return np.argmax(a3, axis=1)"
   ]
  },
  {
   "cell_type": "code",
   "execution_count": 24,
   "metadata": {},
   "outputs": [
    {
     "name": "stdout",
     "output_type": "stream",
     "text": [
      "Testing overfitting for 4-layer Leaky ReLU\n"
     ]
    },
    {
     "data": {
      "image/png": "[encoded data removed]",
      "text/plain": [
       "<Figure size 432x288 with 1 Axes>"
      ]
     },
     "metadata": {},
     "output_type": "display_data"
    },
    {
     "name": "stdout",
     "output_type": "stream",
     "text": [
      "Success rate of the overfit test for Leaky ReLU is:  0.5295\n"
     ]
    }
   ],
   "source": [
    "# Testing for overfitting\n",
    "\n",
    "X3, y3 = getTrainSet()\n",
    "indices_generator = generate_sets(X3)\n",
    "learning_rate_overfit_leaky_1 = 0.0005\n",
    "\n",
    "for train_index, val_index in indices_generator:\n",
    "    print('Testing overfitting for 4-layer Leaky ReLU')\n",
    "    x3_train = X3[train_index]\n",
    "    y3_train = y3[train_index]\n",
    "    x3_val = X3[val_index]\n",
    "    y3_val = y3[val_index]\n",
    "     \n",
    "    parameters = leaky_relu_model(x3_train, y3_train, x3_val, y3_val, epochs_for_overfit_test, learning_rate_overfit_leaky_1, shouldPlot=True)\n",
    "    \n",
    "    y3_predict = leaky_relu_prediction(parameters, x3_val)\n",
    "    success_leaky = success_rate(y3_predict, y3_val)\n",
    "    print('Success rate of the overfit test for Leaky ReLU is: ', success_leaky)\n",
    "    break\n"
   ]
  },
  {
   "cell_type": "code",
   "execution_count": 25,
   "metadata": {},
   "outputs": [
    {
     "name": "stdout",
     "output_type": "stream",
     "text": [
      "Testing overfitting for 4-layer Leaky ReLU\n"
     ]
    },
    {
     "data": {
      "image/png": "[encoded data removed]",
      "text/plain": [
       "<Figure size 432x288 with 1 Axes>"
      ]
     },
     "metadata": {},
     "output_type": "display_data"
    },
    {
     "name": "stdout",
     "output_type": "stream",
     "text": [
      "Success rate of the overfit test for Leaky ReLU is:  0.6518333333333334\n"
     ]
    }
   ],
   "source": [
    "# Testing for overfitting\n",
    "\n",
    "X3, y3 = getTrainSet()\n",
    "indices_generator = generate_sets(X3)\n",
    "learning_rate_overfit_leaky_2 = 0.001\n",
    "\n",
    "for train_index, val_index in indices_generator:\n",
    "    print('Testing overfitting for 4-layer Leaky ReLU')\n",
    "    x3_train = X3[train_index]\n",
    "    y3_train = y3[train_index]\n",
    "    x3_val = X3[val_index]\n",
    "    y3_val = y3[val_index]\n",
    "     \n",
    "    parameters = leaky_relu_model(x3_train, y3_train, x3_val, y3_val, epochs_for_overfit_test, learning_rate_overfit_leaky_2, shouldPlot=True)\n",
    "    \n",
    "    y3_predict = leaky_relu_prediction(parameters, x3_val)\n",
    "    success_leaky = success_rate(y3_predict, y3_val)\n",
    "    print('Success rate of the overfit test for Leaky ReLU is: ', success_leaky)\n",
    "    break\n"
   ]
  },
  {
   "cell_type": "code",
   "execution_count": 26,
   "metadata": {},
   "outputs": [
    {
     "name": "stdout",
     "output_type": "stream",
     "text": [
      "Testing overfitting for 4-layer Leaky ReLU\n"
     ]
    },
    {
     "data": {
      "image/png": "[encoded data removed]",
      "text/plain": [
       "<Figure size 432x288 with 1 Axes>"
      ]
     },
     "metadata": {},
     "output_type": "display_data"
    },
    {
     "name": "stdout",
     "output_type": "stream",
     "text": [
      "Success rate of the overfit test for Leaky ReLU is:  0.4205\n"
     ]
    }
   ],
   "source": [
    "# Testing for overfitting\n",
    "\n",
    "X3, y3 = getTrainSet()\n",
    "indices_generator = generate_sets(X3)\n",
    "learning_rate_overfit_leaky_3 = 0.0002\n",
    "\n",
    "for train_index, val_index in indices_generator:\n",
    "    print('Testing overfitting for 4-layer Leaky ReLU')\n",
    "    x3_train = X3[train_index]\n",
    "    y3_train = y3[train_index]\n",
    "    x3_val = X3[val_index]\n",
    "    y3_val = y3[val_index]\n",
    "     \n",
    "    parameters = leaky_relu_model(x3_train, y3_train, x3_val, y3_val, epochs_for_overfit_test, learning_rate_overfit_leaky_3, shouldPlot=True)\n",
    "    \n",
    "    y3_predict = leaky_relu_prediction(parameters, x3_val)\n",
    "    success_leaky = success_rate(y3_predict, y3_val)\n",
    "    print('Success rate of the overfit test for Leaky ReLU is: ', success_leaky)\n",
    "    break\n"
   ]
  },
  {
   "cell_type": "code",
   "execution_count": null,
   "metadata": {},
   "outputs": [],
   "source": [
    "X3, y3 = getTrainSet()\n",
    "indices_generator = generate_sets(X3)\n",
    "model_list_leaky = []\n",
    "result_list_leaky = []\n",
    "\n",
    "i=0\n",
    "for train_index, val_index in indices_generator:\n",
    "    print(\"K=\",i+1)\n",
    "\n",
    "    x3_train = X3[train_index]\n",
    "    y3_train = y3[train_index]\n",
    "    x3_val = X3[val_index]\n",
    "    y3_val = y3[val_index]\n",
    "     \n",
    "    parameters = leaky_relu_model(x3_train, y3_train, x3_val, y3_val)\n",
    "    model_list_leaky.append(parameters)\n",
    "    \n",
    "    y3_predict = leaky_relu_prediction(parameters, x3_val)\n",
    "    success = success_rate(y3_predict, y3_val)\n",
    "    result_list_leaky.append(success)\n",
    "    \n",
    "    i += 1\n",
    "\n",
    "for i in range(0, len(result_list)):\n",
    "    print('Success rate for set', i, ' is: ', result_list[i])"
   ]
  },
  {
   "cell_type": "markdown",
   "metadata": {},
   "source": [
    "## Tanh"
   ]
  },
  {
   "cell_type": "code",
   "execution_count": null,
   "metadata": {},
   "outputs": [],
   "source": [
    "# import numpy as np\n",
    "\n",
    "# def tanh_model(completeX, completeY):\n",
    "\n",
    "#     W1, B1, W2, B2, W3, B3 = setupNN()\n",
    "\n",
    "#     parameters = {}\n",
    "\n",
    "#     for k in range(0, epochs):\n",
    "#         for j in range(0, int(completeX.shape[0]/batch_size)):\n",
    "#             X = completeX[500*j:500*(j+1)]\n",
    "#             y = completeY[500*j:500*(j+1)]\n",
    "            \n",
    "#             # Forward propagation\n",
    "\n",
    "#             z1 = np.dot(X, W1) + B1\n",
    "\n",
    "#             a1 = tanh(z1)\n",
    "\n",
    "#             z2 = np.dot(a1, W2) + B2\n",
    "\n",
    "#             a2 = tanh(z2)\n",
    "\n",
    "#             z3 = np.dot(a2, W3) + B3\n",
    "\n",
    "#             # Hypothesis\n",
    "#             a3 = softmax(z3)\n",
    "\n",
    "#             # Back propagation\n",
    "#             delta4 = cross_entropy_loss(a3, y, len(X))\n",
    "\n",
    "#             dW3 = np.dot(np.transpose(a2), delta4)\n",
    "#             dB3 = np.sum(delta4, axis=0, keepdims=True)\n",
    "#             dot = np.dot(delta4, np.transpose(W3))\n",
    "#             deriv = tanh_derivative(a2)\n",
    "#             delta3 = np.multiply(dot, deriv)\n",
    "\n",
    "#             dW2 = np.dot(np.transpose(a1), delta3)\n",
    "#             dB2 = np.sum(delta3, axis=0, keepdims=True)\n",
    "#             dot = np.dot(delta3, np.transpose(W2))\n",
    "#             deriv = tanh_derivative(z1)\n",
    "#             delta2 = np.multiply(dot, deriv)\n",
    "\n",
    "#             dW1 = np.dot(np.transpose(X), delta2)\n",
    "#             dB1 = np.sum(delta2, axis=0, keepdims=True)\n",
    "\n",
    "#             # Updating parameters\n",
    "\n",
    "#             W1 += -learning_rate * dW1\n",
    "#             B1 += -learning_rate * dB1\n",
    "#             W2 += -learning_rate * dW2\n",
    "#             B2 += -learning_rate * dB2\n",
    "#             W3 += -learning_rate * dW3\n",
    "#             B3 += -learning_rate * dB3\n",
    "\n",
    "#             parameters = {'W1': W1, 'B1': B1, 'W2': W2, 'B2': B2, 'W3': W3, 'B3': B3}\n",
    "\n",
    "#         X = completeX[500*j:]\n",
    "#         y = completeY[500*j:]\n",
    "        \n",
    "#         # Forward propagation\n",
    "\n",
    "#         z1 = np.dot(X, W1) + B1\n",
    "\n",
    "#         a1 = tanh(z1)\n",
    "\n",
    "#         z2 = np.dot(a1, W2) + B2\n",
    "\n",
    "#         a2 = tanh(z2)\n",
    "\n",
    "#         z3 = np.dot(a2, W3) + B3\n",
    "\n",
    "#         # Hypothesis\n",
    "#         a3 = softmax(z3)\n",
    "\n",
    "#         # Back propagation\n",
    "#         delta4 = cross_entropy_loss(a3, y, len(X))\n",
    "\n",
    "#         dW3 = np.dot(np.transpose(a2), delta4)\n",
    "#         dB3 = np.sum(delta4, axis=0, keepdims=True)\n",
    "#         dot = np.dot(delta4, np.transpose(W3))\n",
    "#         deriv = tanh_derivative(a2)\n",
    "#         delta3 = np.multiply(dot, deriv)\n",
    "\n",
    "#         dW2 = np.dot(np.transpose(a1), delta3)\n",
    "#         dB2 = np.sum(delta3, axis=0, keepdims=True)\n",
    "#         dot = np.dot(delta3, np.transpose(W2))\n",
    "#         deriv = tanh_derivative(z1)\n",
    "#         delta2 = np.multiply(dot, deriv)\n",
    "\n",
    "#         dW1 = np.dot(np.transpose(X), delta2)\n",
    "#         dB1 = np.sum(delta2, axis=0, keepdims=True)\n",
    "\n",
    "#         # Updating parameters\n",
    "\n",
    "#         W1 += -learning_rate * dW1\n",
    "#         B1 += -learning_rate * dB1\n",
    "#         W2 += -learning_rate * dW2\n",
    "#         B2 += -learning_rate * dB2\n",
    "#         W3 += -learning_rate * dW3\n",
    "#         B3 += -learning_rate * dB3\n",
    "\n",
    "#         parameters = {'W1': W1, 'B1': B1, 'W2': W2, 'B2': B2, 'W3': W3, 'B3': B3}\n",
    "\n",
    "#     return parameters\n",
    "\n",
    "# def tanh_prediction(parameters, X):\n",
    "#     W1, B1, W2, B2, W3, B3 = parameters['W1'], parameters['B1'], parameters['W2'], parameters['B2'], parameters['W3'], parameters['B3']\n",
    "\n",
    "#     z1 = np.dot(X, W1) + B1\n",
    "#     a1 = tanh(z1)\n",
    "#     z2 = np.dot(a1, W2) + B2\n",
    "#     a2 = tanh(z2)\n",
    "#     z3 = np.dot(a2, W3) + B3\n",
    "#     a3 = softmax(z3)\n",
    "\n",
    "#     return np.argmax(a3, axis=1)"
   ]
  },
  {
   "cell_type": "code",
   "execution_count": null,
   "metadata": {},
   "outputs": [],
   "source": [
    "# X4, y4 = getTrainSet()\n",
    "# indices_generator = generate_sets(X3)\n",
    "# model_list_tanh = []\n",
    "# result_list_tanh = []\n",
    "\n",
    "# i=0\n",
    "# for train_index, val_index in indices_generator:\n",
    "#     x4_train = X4[train_index]\n",
    "#     y4_train = y4[train_index]\n",
    "#     x4_val = X4[val_index]\n",
    "#     y4_val = y4[val_index]\n",
    "     \n",
    "#     parameters = leaky_relu_model(x4_train, y4_train)\n",
    "#     model_list_tanh.append(parameters)\n",
    "    \n",
    "#     y4_predict = leaky_relu_prediction(parameters, x4_val)\n",
    "#     success = success_rate(y4_predict, y4_val)\n",
    "#     result_list_tanh.append(success)\n",
    "    \n",
    "#     i += 1\n",
    "\n",
    "# for i in range(0, len(result_list)):\n",
    "#     print('Success rate for set', i, ' is: ', result_list[i])"
   ]
  },
  {
   "cell_type": "markdown",
   "metadata": {},
   "source": [
    "# Test"
   ]
  },
  {
   "cell_type": "code",
   "execution_count": null,
   "metadata": {},
   "outputs": [],
   "source": [
    "# Xt, yt = getTestSet()\n",
    "\n",
    "# yt_predict = insertmodelhere(insertparameters here, Xt)\n",
    "# success = success_rate(yt_predict, yt)\n",
    "\n",
    "# print('Success rate for the test set is: ', success)"
   ]
  }
 ],
 "metadata": {
  "kernelspec": {
   "display_name": "Python 3",
   "language": "python",
   "name": "python3"
  },
  "language_info": {
   "codemirror_mode": {
    "name": "ipython",
    "version": 3
   },
   "file_extension": ".py",
   "mimetype": "text/x-python",
   "name": "python",
   "nbconvert_exporter": "python",
   "pygments_lexer": "ipython3",
   "version": "3.6.5"
  }
 },
 "nbformat": 4,
 "nbformat_minor": 2
}
