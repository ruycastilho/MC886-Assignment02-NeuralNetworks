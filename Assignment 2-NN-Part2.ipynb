{
 "cells": [
  {
   "cell_type": "markdown",
   "metadata": {},
   "source": [
    "## Importação dos Dados"
   ]
  },
  {
   "cell_type": "code",
   "execution_count": 4,
   "metadata": {},
   "outputs": [],
   "source": [
    "import pandas as pd\n",
    "import os\n",
    "\n",
    "def load_fashionMNIST_train():\n",
    "    csv_path = os.path.join(\"Data/fashion-mnist-dataset\", \"fashion-mnist_train.csv\")\n",
    "    return pd.read_csv(csv_path)\n",
    "\n",
    "def load_fashionMNIST_tests():\n",
    "    csv_path = os.path.join(\"Data/fashion-mnist-dataset\", \"fashion-mnist_test.csv\")\n",
    "    return pd.read_csv(csv_path)"
   ]
  },
  {
   "cell_type": "markdown",
   "metadata": {},
   "source": [
    "## Feature Scalling e Normalização"
   ]
  },
  {
   "cell_type": "code",
   "execution_count": 12,
   "metadata": {},
   "outputs": [],
   "source": [
    "import numpy as np\n",
    "\n",
    "def normalize(train, test):\n",
    "    train_mean = np.mean(train, axis=0)\n",
    "    train = train - train_mean\n",
    "    test = test - train_mean\n",
    "    \n",
    "    return train, test\n",
    "\n",
    "def scale(X):\n",
    "    max_array = np.max(X, axis=0)\n",
    "    X = X / max_array[None, :]\n",
    "    return X"
   ]
  },
  {
   "cell_type": "markdown",
   "metadata": {},
   "source": [
    "## Geração de matrizes de Features e Target"
   ]
  },
  {
   "cell_type": "markdown",
   "metadata": {},
   "source": [
    "### Setup inicial dos dados"
   ]
  },
  {
   "cell_type": "code",
   "execution_count": 7,
   "metadata": {},
   "outputs": [],
   "source": [
    "import numpy as np\n",
    "\n",
    "#carrega os dados\n",
    "data_train = load_fashionMNIST_train()\n",
    "data_test = load_fashionMNIST_tests()\n",
    "\n",
    "# Separação em Features e Target\n",
    "\n",
    "data_train_target = np.array(train[\"label\"])\n",
    "data_test_target = np.array(test[\"label\"])\n",
    "\n",
    "data_train = np.array(data_train)\n",
    "data_test = np.array(data_test)\n",
    "\n",
    "data_train = np.delete(data_train, 0, axis=1)\n",
    "data_test = np.delete(data_test, 0, axis=1)\n",
    "\n",
    "# Normalização\n",
    "normalized_data_train, normalized_data_test = normalize(data_train,data_test)\n",
    "\n",
    "# Scaling\n",
    "scaled_data_train = scale(normalized_data_train)\n",
    "scaled_data_test = scale(normalized_data_test)\n",
    "\n",
    "# # Adicionando coluna de 1's\n",
    "# ready_data_train = np.c_[np.ones((len(scaled_data_train),1)), scaled_data_train]\n",
    "# ready_data_test = np.c_[np.ones((len(scaled_data_test),1)), scaled_data_test]\n",
    "\n",
    "def getTrainSet():\n",
    "    return scaled_data_train, data_train_target\n",
    "\n",
    "def getTestSet():\n",
    "    return scaled_data_test,data_test_target"
   ]
  },
  {
   "cell_type": "markdown",
   "metadata": {},
   "source": [
    "## Gerador de conjuntos de Cross Validation"
   ]
  },
  {
   "cell_type": "code",
   "execution_count": null,
   "metadata": {},
   "outputs": [],
   "source": [
    "# Cross Validation Generation \n",
    "\n",
    "from sklearn.model_selection import train_test_split, KFold\n",
    "\n",
    "# Retorna um gerador de indices\n",
    "def generate_sets(TRAINING_DATA,type='kfold'):\n",
    "\n",
    "    # Cross validation using train_test_split\n",
    "    if (type == 'split'):\n",
    "       return train_test_split(TRAINING_DATA,test_size=0.2,random_state=0)\n",
    "\n",
    "    # Cross validation using K-Fold\n",
    "    # K = 5, Shuffle = true, Seed = 21\n",
    "    elif (type == 'kfold'):\n",
    "        kfold_seed = 21\n",
    "\n",
    "        kfold = KFold(n_splits=5, shuffle=True, random_state=kfold_seed)\n",
    "        return kfold.split(TRAINING_DATA)"
   ]
  },
  {
   "cell_type": "markdown",
   "metadata": {},
   "source": [
    "## Units per Layer"
   ]
  },
  {
   "cell_type": "code",
   "execution_count": 8,
   "metadata": {},
   "outputs": [],
   "source": [
    "input_layer=784 \n",
    "units_per_hidden_layer=1024 # 2 to the tenth, since there are 10 classes\n",
    "output_layer=10"
   ]
  },
  {
   "cell_type": "markdown",
   "metadata": {},
   "source": [
    "## Learning Rate"
   ]
  },
  {
   "cell_type": "code",
   "execution_count": null,
   "metadata": {},
   "outputs": [],
   "source": [
    "learning_rate = 0.01"
   ]
  },
  {
   "cell_type": "markdown",
   "metadata": {},
   "source": [
    "## Weights and Bias"
   ]
  },
  {
   "cell_type": "code",
   "execution_count": 32,
   "metadata": {},
   "outputs": [],
   "source": [
    "# Initializes weights randomly\n",
    "\n",
    "import numpy as np\n",
    "\n",
    "def weights1():\n",
    "    t1 = numpy.random.rand(input_layer, units_per_hidden_layer)\n",
    "    \n",
    "\n",
    "def weights2():\n",
    "    t2 = numpy.random.rand(output_layer, units_per_hidden_layer)\n",
    "    \n",
    "     \n",
    "# Adds biases, initialized with zeros\n",
    "\n",
    "def bias1():\n",
    "    return false\n",
    "\n",
    "def bias2():\n",
    "    return false"
   ]
  },
  {
   "cell_type": "markdown",
   "metadata": {},
   "source": [
    "## Activation Functions"
   ]
  },
  {
   "cell_type": "markdown",
   "metadata": {},
   "source": [
    "### Sigmoid and Loss functions"
   ]
  },
  {
   "cell_type": "code",
   "execution_count": 49,
   "metadata": {},
   "outputs": [],
   "source": [
    "def sigmoid(z):\n",
    "    return 1 / (1+np.exp(-z))\n",
    "\n",
    "def sigmoid_derivative(a):\n",
    "    return a(1 - a)\n",
    "\n",
    "def loss(h, y):\n",
    "    return (-y * np.log(h) - (1 - y) * np.log(1 - h)).mean()\n"
   ]
  },
  {
   "cell_type": "markdown",
   "metadata": {},
   "source": [
    "### ReLU"
   ]
  },
  {
   "cell_type": "code",
   "execution_count": 48,
   "metadata": {},
   "outputs": [],
   "source": [
    "def ReLU(z):\n",
    "    z[z<0]=0\n",
    "    return z\n",
    "\n",
    "def ReLU_derivative(z):\n",
    "    z = np.where(z >= 0, 1, 0)\n",
    "    return z"
   ]
  },
  {
   "cell_type": "markdown",
   "metadata": {},
   "source": [
    "### Leaky ReLU"
   ]
  },
  {
   "cell_type": "code",
   "execution_count": 47,
   "metadata": {},
   "outputs": [],
   "source": [
    "def leaky_ReLU(z):\n",
    "    z = np.where(z > 0, z, z * 0.01)\n",
    "    return z\n",
    "\n",
    "def leaky_ReLU_derivative(z):\n",
    "    z = np.where(z >= 0, 1, 0.01)\n",
    "    return z"
   ]
  },
  {
   "cell_type": "markdown",
   "metadata": {},
   "source": [
    "## Softmax"
   ]
  },
  {
   "cell_type": "code",
   "execution_count": 51,
   "metadata": {},
   "outputs": [],
   "source": [
    "\n",
    "def softmax(z):\n",
    "    expZ = np.exp(z - np.max(z))\n",
    "    return expZ / expZ.sum()\n",
    "\n",
    "def softmax_derivative():\n",
    "    return false"
   ]
  },
  {
   "cell_type": "markdown",
   "metadata": {},
   "source": [
    "## Sigma"
   ]
  },
  {
   "cell_type": "code",
   "execution_count": null,
   "metadata": {},
   "outputs": [],
   "source": [
    "import numpy as np\n",
    "\n",
    "# For sigmoids, use z = a\n",
    "\n",
    "def sigma(theta, pastSigma, derivative, z):\n",
    "    thetaTransp = np.transpose(theta)\n",
    "    mult = np.dot(thetaTransp, pastSigma)\n",
    "    deriv = derivative(z)\n",
    "    elementWise = np.multiply(mult, deriv)\n",
    "    return elementWise"
   ]
  },
  {
   "cell_type": "markdown",
   "metadata": {},
   "source": [
    "## Cost Function"
   ]
  },
  {
   "cell_type": "code",
   "execution_count": null,
   "metadata": {},
   "outputs": [],
   "source": [
    "def cost(z, y):\n",
    "    return z-y"
   ]
  },
  {
   "cell_type": "markdown",
   "metadata": {},
   "source": [
    "## Layer Construction"
   ]
  },
  {
   "cell_type": "code",
   "execution_count": null,
   "metadata": {},
   "outputs": [],
   "source": [
    "\n",
    "def layer():\n",
    "    \n",
    "    return false"
   ]
  },
  {
   "cell_type": "markdown",
   "metadata": {},
   "source": [
    "# Models"
   ]
  },
  {
   "cell_type": "markdown",
   "metadata": {},
   "source": [
    "## Sigmoid"
   ]
  },
  {
   "cell_type": "code",
   "execution_count": 52,
   "metadata": {},
   "outputs": [
    {
     "ename": "SyntaxError",
     "evalue": "invalid syntax (<ipython-input-52-8ec9cc791742>, line 8)",
     "output_type": "error",
     "traceback": [
      "\u001b[0;36m  File \u001b[0;32m\"<ipython-input-52-8ec9cc791742>\"\u001b[0;36m, line \u001b[0;32m8\u001b[0m\n\u001b[0;31m    a2 =\u001b[0m\n\u001b[0m         ^\u001b[0m\n\u001b[0;31mSyntaxError\u001b[0m\u001b[0;31m:\u001b[0m invalid syntax\n"
     ]
    }
   ],
   "source": [
    "\n",
    "a1 = X\n",
    "\n",
    "# Forward propagation\n",
    "\n",
    "z2 = np.dot(theta1, a1)\n",
    "\n",
    "a2 = sigmoid(z2)\n",
    "\n",
    "z3 = np.dot(theta2, a2)\n",
    "\n",
    "a3 = sigmoid(z3)\n",
    "\n",
    "z4 = np.dot(theta3, a3)\n",
    "\n",
    "# Hypothesis\n",
    "a4 = sigmoid(z4)\n",
    "\n",
    "sigmaL = cost()\n",
    "\n",
    "# Back propagation\n",
    "\n",
    "sigma2 = sigma()\n",
    "\n",
    "\n",
    "delta = delta +\n"
   ]
  },
  {
   "cell_type": "markdown",
   "metadata": {},
   "source": [
    "## ReLU"
   ]
  },
  {
   "cell_type": "code",
   "execution_count": 52,
   "metadata": {},
   "outputs": [
    {
     "ename": "SyntaxError",
     "evalue": "invalid syntax (<ipython-input-52-8ec9cc791742>, line 8)",
     "output_type": "error",
     "traceback": [
      "\u001b[0;36m  File \u001b[0;32m\"<ipython-input-52-8ec9cc791742>\"\u001b[0;36m, line \u001b[0;32m8\u001b[0m\n\u001b[0;31m    a2 =\u001b[0m\n\u001b[0m         ^\u001b[0m\n\u001b[0;31mSyntaxError\u001b[0m\u001b[0;31m:\u001b[0m invalid syntax\n"
     ]
    }
   ],
   "source": [
    "\n",
    "a1 = X\n",
    "\n",
    "# Forward propagation\n",
    "\n",
    "z2 = np.dot(theta1, a1)\n",
    "\n",
    "a2 = sigmoid(z2)\n",
    "\n",
    "z3 = np.dot(theta2, a2)\n",
    "\n",
    "a3 = sigmoid(z3)\n",
    "\n",
    "z4 = np.dot(theta3, a3)\n",
    "\n",
    "# Hypothesis\n",
    "a4 = sigmoid(z4)\n",
    "\n",
    "sigmaL = cost()\n",
    "\n",
    "# Back propagation\n",
    "\n",
    "sigma2 = sigma()\n",
    "\n",
    "\n",
    "delta = delta +\n"
   ]
  },
  {
   "cell_type": "markdown",
   "metadata": {},
   "source": [
    "## Leaky ReLU"
   ]
  },
  {
   "cell_type": "code",
   "execution_count": 52,
   "metadata": {},
   "outputs": [
    {
     "ename": "SyntaxError",
     "evalue": "invalid syntax (<ipython-input-52-8ec9cc791742>, line 8)",
     "output_type": "error",
     "traceback": [
      "\u001b[0;36m  File \u001b[0;32m\"<ipython-input-52-8ec9cc791742>\"\u001b[0;36m, line \u001b[0;32m8\u001b[0m\n\u001b[0;31m    a2 =\u001b[0m\n\u001b[0m         ^\u001b[0m\n\u001b[0;31mSyntaxError\u001b[0m\u001b[0;31m:\u001b[0m invalid syntax\n"
     ]
    }
   ],
   "source": [
    "\n",
    "a1 = X\n",
    "\n",
    "# Forward propagation\n",
    "\n",
    "z2 = np.dot(theta1, a1)\n",
    "\n",
    "a2 = sigmoid(z2)\n",
    "\n",
    "z3 = np.dot(theta2, a2)\n",
    "\n",
    "a3 = sigmoid(z3)\n",
    "\n",
    "z4 = np.dot(theta3, a3)\n",
    "\n",
    "# Hypothesis\n",
    "a4 = sigmoid(z4)\n",
    "\n",
    "sigmaL = cost()\n",
    "\n",
    "# Back propagation\n",
    "\n",
    "sigma2 = sigma()\n",
    "\n",
    "\n",
    "delta = delta +\n"
   ]
  }
 ],
 "metadata": {
  "kernelspec": {
   "display_name": "Python 3",
   "language": "python",
   "name": "python3"
  },
  "language_info": {
   "codemirror_mode": {
    "name": "ipython",
    "version": 3
   },
   "file_extension": ".py",
   "mimetype": "text/x-python",
   "name": "python",
   "nbconvert_exporter": "python",
   "pygments_lexer": "ipython3",
   "version": "3.6.5"
  }
 },
 "nbformat": 4,
 "nbformat_minor": 2
}
