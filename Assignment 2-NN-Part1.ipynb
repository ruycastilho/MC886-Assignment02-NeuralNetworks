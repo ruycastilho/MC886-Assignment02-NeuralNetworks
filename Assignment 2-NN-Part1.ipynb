{
 "cells": [
  {
   "cell_type": "markdown",
   "metadata": {},
   "source": [
    "\n",
    "# Assignment #2\n",
    "\n",
    "### Redes de 1 camada oculta\n",
    "\n",
    "Pedro Stramantinoli P. Cagliume Gomes 175955\n",
    "\n",
    "Ruy Castilho Barrichelo 177012\n"
   ]
  },
  {
   "cell_type": "markdown",
   "metadata": {},
   "source": [
    "## Importação dos Dados"
   ]
  },
  {
   "cell_type": "code",
   "execution_count": 1,
   "metadata": {},
   "outputs": [],
   "source": [
    "import pandas as pd\n",
    "import os\n",
    "\n",
    "def load_fashionMNIST_train():\n",
    "    csv_path = os.path.join(\"Data/fashion-mnist-dataset\", \"fashion-mnist_train.csv\")\n",
    "    return pd.read_csv(csv_path)\n",
    "\n",
    "def load_fashionMNIST_tests():\n",
    "    csv_path = os.path.join(\"Data/fashion-mnist-dataset\", \"fashion-mnist_test.csv\")\n",
    "    return pd.read_csv(csv_path)"
   ]
  },
  {
   "cell_type": "markdown",
   "metadata": {},
   "source": [
    "## Feature Scalling e Normalização"
   ]
  },
  {
   "cell_type": "code",
   "execution_count": 2,
   "metadata": {},
   "outputs": [],
   "source": [
    "import numpy as np\n",
    "\n",
    "def normalize(train, test):\n",
    "    train_mean = np.mean(train, axis=0)\n",
    "    train = train - train_mean\n",
    "    test = test - train_mean\n",
    "    \n",
    "    return train, test\n",
    "\n",
    "def scale(X):\n",
    "    max_array = np.max(X, axis=0)\n",
    "    X = X / max_array[None, :]\n",
    "    return X"
   ]
  },
  {
   "cell_type": "markdown",
   "metadata": {},
   "source": [
    "## Geração de matrizes de Features e Target"
   ]
  },
  {
   "cell_type": "markdown",
   "metadata": {},
   "source": [
    "### Setup inicial dos dados"
   ]
  },
  {
   "cell_type": "code",
   "execution_count": 3,
   "metadata": {},
   "outputs": [],
   "source": [
    "import numpy as np\n",
    "\n",
    "#carrega os dados\n",
    "data_train = load_fashionMNIST_train()\n",
    "data_test = load_fashionMNIST_tests()\n",
    "\n",
    "# Separação em Features e Target\n",
    "\n",
    "data_train_target = np.array(data_train[\"label\"])\n",
    "data_test_target = np.array(data_test[\"label\"])\n",
    "\n",
    "data_train = np.array(data_train)\n",
    "data_test = np.array(data_test)\n",
    "\n",
    "data_train = np.delete(data_train, 0, axis=1)\n",
    "data_test = np.delete(data_test, 0, axis=1)\n",
    "\n",
    "# Normalização\n",
    "normalized_data_train, normalized_data_test = normalize(data_train,data_test)\n",
    "\n",
    "# Scaling\n",
    "scaled_data_train = scale(normalized_data_train)\n",
    "scaled_data_test = scale(normalized_data_test)\n",
    "\n",
    "def getTrainSet():\n",
    "    return scaled_data_train, data_train_target\n",
    "\n",
    "def getTestSet():\n",
    "    return scaled_data_test,data_test_target"
   ]
  },
  {
   "cell_type": "markdown",
   "metadata": {},
   "source": [
    "## Gerador de conjuntos de Cross Validation"
   ]
  },
  {
   "cell_type": "code",
   "execution_count": 4,
   "metadata": {},
   "outputs": [],
   "source": [
    "# Cross Validation Generation \n",
    "\n",
    "from sklearn.model_selection import train_test_split, KFold\n",
    "\n",
    "# Retorna um gerador de indices\n",
    "def generate_sets(TRAINING_DATA,type='kfold'):\n",
    "\n",
    "    # Cross validation using train_test_split\n",
    "    if (type == 'split'):\n",
    "       return train_test_split(TRAINING_DATA,test_size=0.2,random_state=0)\n",
    "\n",
    "    # Cross validation using K-Fold\n",
    "    # K = 5, Shuffle = true, Seed = 21\n",
    "    elif (type == 'kfold'):\n",
    "        kfold_seed = 21\n",
    "\n",
    "        kfold = KFold(n_splits=5, shuffle=True, random_state=kfold_seed)\n",
    "        return kfold.split(TRAINING_DATA)"
   ]
  },
  {
   "cell_type": "markdown",
   "metadata": {},
   "source": [
    "## Units per Layer"
   ]
  },
  {
   "cell_type": "code",
   "execution_count": 5,
   "metadata": {},
   "outputs": [],
   "source": [
    "input_layer=784 \n",
    "units_per_hidden_layer=500\n",
    "output_layer=10"
   ]
  },
  {
   "cell_type": "markdown",
   "metadata": {},
   "source": [
    "## Learning Rate"
   ]
  },
  {
   "cell_type": "code",
   "execution_count": 24,
   "metadata": {},
   "outputs": [],
   "source": [
    "learning_rate = 0.001"
   ]
  },
  {
   "cell_type": "markdown",
   "metadata": {},
   "source": [
    "## Number of Epochs"
   ]
  },
  {
   "cell_type": "code",
   "execution_count": 25,
   "metadata": {},
   "outputs": [],
   "source": [
    "epochs=5\n",
    "epochs_for_overfit_test=30"
   ]
  },
  {
   "cell_type": "markdown",
   "metadata": {},
   "source": [
    "## Batch Size"
   ]
  },
  {
   "cell_type": "code",
   "execution_count": 8,
   "metadata": {},
   "outputs": [],
   "source": [
    "batch_size=512"
   ]
  },
  {
   "cell_type": "markdown",
   "metadata": {},
   "source": [
    "## Weights and Bias"
   ]
  },
  {
   "cell_type": "code",
   "execution_count": 9,
   "metadata": {},
   "outputs": [],
   "source": [
    "# Initializes weights randomly\n",
    "\n",
    "import numpy as np\n",
    "\n",
    "np.random.seed(21)\n",
    "\n",
    "def weights1():\n",
    "    return np.random.rand(input_layer, units_per_hidden_layer)*0.01\n",
    "\n",
    "def weights2():\n",
    "    return np.random.rand(units_per_hidden_layer, output_layer)*0.01\n",
    "    \n",
    "     \n",
    "# Adds biases, initialized with zeros\n",
    "\n",
    "def bias1():\n",
    "    return np.zeros((1, units_per_hidden_layer))\n",
    "\n",
    "def bias2():\n",
    "    return np.zeros((1, output_layer))\n",
    "\n",
    "def setupNN():\n",
    "    return weights1(), bias1(), weights2(), bias2()"
   ]
  },
  {
   "cell_type": "markdown",
   "metadata": {},
   "source": [
    "## Activation Functions"
   ]
  },
  {
   "cell_type": "markdown",
   "metadata": {},
   "source": [
    "### Sigmoid and Loss functions"
   ]
  },
  {
   "cell_type": "code",
   "execution_count": 10,
   "metadata": {},
   "outputs": [],
   "source": [
    "import numpy as np\n",
    "\n",
    "def sigmoid(z):\n",
    "    return 1 / (1+np.exp(-z))\n",
    "\n",
    "def sigmoid_derivative(a):\n",
    "    return a*(1 - a)\n",
    "\n",
    "def loss(h, y):\n",
    "    return (-y * np.log(h) - (1 - y) * np.log(1 - h)).mean()\n"
   ]
  },
  {
   "cell_type": "markdown",
   "metadata": {},
   "source": [
    "### ReLU"
   ]
  },
  {
   "cell_type": "code",
   "execution_count": 11,
   "metadata": {},
   "outputs": [],
   "source": [
    "import numpy as np\n",
    "\n",
    "def ReLU(z):\n",
    "    z[z<0]=0\n",
    "    return z\n",
    "\n",
    "def ReLU_derivative(z):\n",
    "    z = np.where(z >= 0, 1, 0)\n",
    "    return z"
   ]
  },
  {
   "cell_type": "markdown",
   "metadata": {},
   "source": [
    "### Leaky ReLU"
   ]
  },
  {
   "cell_type": "code",
   "execution_count": 12,
   "metadata": {},
   "outputs": [],
   "source": [
    "import numpy as np\n",
    "\n",
    "def leaky_ReLU(z):\n",
    "    z = np.where(z > 0, z, z * 0.01)\n",
    "    return z\n",
    "\n",
    "def leaky_ReLU_derivative(z):\n",
    "    z = np.where(z >= 0, 1, 0.01)\n",
    "    return z"
   ]
  },
  {
   "cell_type": "markdown",
   "metadata": {},
   "source": [
    "### Tanh"
   ]
  },
  {
   "cell_type": "code",
   "execution_count": 13,
   "metadata": {},
   "outputs": [],
   "source": [
    "import numpy as np\n",
    "\n",
    "def tanh(z):\n",
    "    return np.tanh(z)\n",
    "\n",
    "def tanh_derivative(z):\n",
    "    tan = tanh(z)\n",
    "    return (1-np.square(tan))"
   ]
  },
  {
   "cell_type": "markdown",
   "metadata": {},
   "source": [
    "## Softmax"
   ]
  },
  {
   "cell_type": "code",
   "execution_count": 14,
   "metadata": {},
   "outputs": [],
   "source": [
    "import numpy as np\n",
    "\n",
    "# Stable softmax\n",
    "def softmax(z):\n",
    "    expZ = np.exp(z - np.max(z))\n",
    "    return expZ / np.sum(expZ, axis=1, keepdims=True)\n"
   ]
  },
  {
   "cell_type": "markdown",
   "metadata": {},
   "source": [
    "## Loss Function - Cross Entropy with Softmax"
   ]
  },
  {
   "cell_type": "code",
   "execution_count": 15,
   "metadata": {},
   "outputs": [],
   "source": [
    "def cross_entropy_loss(delta, y, length):\n",
    "    delta[range(length), y] -= 1\n",
    "    return delta"
   ]
  },
  {
   "cell_type": "markdown",
   "metadata": {},
   "source": [
    "## Success/Error Percentages"
   ]
  },
  {
   "cell_type": "code",
   "execution_count": 16,
   "metadata": {},
   "outputs": [],
   "source": [
    "import numpy as np\n",
    "\n",
    "def error_rate(prediction, y):\n",
    "    return np.mean( prediction != y )\n",
    "\n",
    "def success_rate(prediction, y):\n",
    "    return np.mean( prediction == y )\n"
   ]
  },
  {
   "cell_type": "markdown",
   "metadata": {},
   "source": [
    "# Models\n",
    "\n",
    "#### Different activation functions for hidden layers, but all of them end with the use of Softmax"
   ]
  },
  {
   "cell_type": "markdown",
   "metadata": {},
   "source": [
    "## Sigmoid"
   ]
  },
  {
   "cell_type": "code",
   "execution_count": 30,
   "metadata": {},
   "outputs": [],
   "source": [
    "import numpy as np\n",
    "import matplotlib.pyplot as plt\n",
    "\n",
    "def sigmoid_model(completeX, completeY, x1_val, y1_val, epochs=epochs, shouldPlot=False):\n",
    "\n",
    "    W1, B1, W2, B2 = setupNN()\n",
    "    plot_test_sigmoid = []\n",
    "    plot_val_sigmoid = []\n",
    "    \n",
    "    parameters = {}\n",
    "    for k in range(0, epochs):\n",
    "        print('Epoch: ', k+1)\n",
    "\n",
    "        for j in range(0, int(completeX.shape[0]/batch_size)):\n",
    "            X = completeX[batch_size*j:batch_size*(j+1)]\n",
    "            y = completeY[batch_size*j:batch_size*(j+1)]\n",
    "\n",
    "            # Forward propagation\n",
    "\n",
    "            z1 = np.dot(X, W1) + B1\n",
    "\n",
    "            a1 = sigmoid(z1)\n",
    "\n",
    "            z2 = np.dot(a1, W2) + B2\n",
    "\n",
    "            # Hypothesis\n",
    "            a2 = softmax(z2)\n",
    "\n",
    "            # Back propagation\n",
    "            delta3 = cross_entropy_loss(a2, y, len(X))\n",
    "\n",
    "            dW2 = np.dot(np.transpose(a1), delta3)\n",
    "            dB2 = np.sum(delta3, axis=0, keepdims=True)\n",
    "            dot = np.dot(delta3, np.transpose(W2))\n",
    "            deriv = sigmoid_derivative(a1)\n",
    "            delta2 = np.multiply(dot, deriv)\n",
    "\n",
    "            dW1 = np.dot(np.transpose(X), delta2)\n",
    "            dB1 = np.sum(delta2, axis=0, keepdims=True)\n",
    "\n",
    "            # Updating parameters\n",
    "\n",
    "            W1 += -learning_rate * dW1\n",
    "            B1 += -learning_rate * dB1\n",
    "            W2 += -learning_rate * dW2\n",
    "            B2 += -learning_rate * dB2\n",
    "\n",
    "            parameters = {'W1': W1, 'B1': B1, 'W2': W2, 'B2': B2}\n",
    "            \n",
    "        X = completeX[batch_size*j:]\n",
    "        y = completeY[batch_size*j:]\n",
    "\n",
    "        # Forward propagation\n",
    "\n",
    "        z1 = np.dot(X, W1) + B1\n",
    "\n",
    "        a1 = sigmoid(z1)\n",
    "\n",
    "        z2 = np.dot(a1, W2) + B2\n",
    "\n",
    "        # Hypothesis\n",
    "        a2 = softmax(z2)\n",
    "\n",
    "        # Back propagation\n",
    "        delta3 = cross_entropy_loss(a2, y, len(X))\n",
    "\n",
    "        dW2 = np.dot(np.transpose(a1), delta3)\n",
    "        dB2 = np.sum(delta3, axis=0, keepdims=True)\n",
    "        dot = np.dot(delta3, np.transpose(W2))\n",
    "        deriv = sigmoid_derivative(a1)\n",
    "        delta2 = np.multiply(dot, deriv)\n",
    "\n",
    "        dW1 = np.dot(np.transpose(X), delta2)\n",
    "        dB1 = np.sum(delta2, axis=0, keepdims=True)\n",
    "\n",
    "        # Updating parameters\n",
    "\n",
    "        W1 += -learning_rate * dW1\n",
    "        B1 += -learning_rate * dB1\n",
    "        W2 += -learning_rate * dW2\n",
    "        B2 += -learning_rate * dB2\n",
    "\n",
    "        parameters = {'W1': W1, 'B1': B1, 'W2': W2, 'B2': B2}\n",
    "        \n",
    "        if (shouldPlot):\n",
    "\n",
    "            prediction_test_sigmoid = sigmoid_prediction(parameters, completeX)\n",
    "            prediction_val_sigmoid = sigmoid_prediction(parameters, x1_val)\n",
    "\n",
    "            error_sigmoid_test = error_rate(prediction_test_sigmoid, completeY)\n",
    "            error_sigmoid_val = error_rate(prediction_val_sigmoid, y1_val)\n",
    "\n",
    "            plot_test_sigmoid.append(error_sigmoid_test*100)\n",
    "            plot_val_sigmoid.append(error_sigmoid_val*100)\n",
    "        \n",
    "    if (shouldPlot):\n",
    "\n",
    "        # print(plot_test_sigmoid)\n",
    "        plt.plot(range(1, epochs+1) ,plot_test_sigmoid, linestyle='-.', color='dodgerblue')\n",
    "        plt.plot(range(1, epochs+1), plot_val_sigmoid, linestyle='-', color='darkorange')\n",
    "        plt.ylabel('Error Percentage - Sigmoid I')\n",
    "        plt.xlabel('Epochs')\n",
    "        plt.axis([1,epochs+1,0,100])\n",
    "        plt.savefig('sigmoid_1_error.png', bbox_inches='tight')\n",
    "        plt.show()\n",
    "\n",
    "    return parameters\n",
    "\n",
    "def sigmoid_prediction(parameters, X):\n",
    "    W1, B1, W2, B2 = parameters['W1'], parameters['B1'], parameters['W2'], parameters['B2']\n",
    "\n",
    "    z1 = np.dot(X, W1) + B1\n",
    "    a1 = sigmoid(z1)\n",
    "    z2 = np.dot(a1, W2) + B2\n",
    "    a2 = softmax(z2)\n",
    "    \n",
    "    return np.argmax(a2, axis=1)"
   ]
  },
  {
   "cell_type": "code",
   "execution_count": 31,
   "metadata": {},
   "outputs": [
    {
     "name": "stdout",
     "output_type": "stream",
     "text": [
      "Testing overfitting for 3-layer sigmoid\n",
      "Epoch:  1\n",
      "Epoch:  2\n",
      "Epoch:  3\n",
      "Epoch:  4\n",
      "Epoch:  5\n",
      "Epoch:  6\n",
      "Epoch:  7\n",
      "Epoch:  8\n",
      "Epoch:  9\n",
      "Epoch:  10\n",
      "Epoch:  11\n",
      "Epoch:  12\n",
      "Epoch:  13\n",
      "Epoch:  14\n",
      "Epoch:  15\n",
      "Epoch:  16\n",
      "Epoch:  17\n",
      "Epoch:  18\n",
      "Epoch:  19\n",
      "Epoch:  20\n",
      "Epoch:  21\n",
      "Epoch:  22\n",
      "Epoch:  23\n",
      "Epoch:  24\n",
      "Epoch:  25\n",
      "Epoch:  26\n",
      "Epoch:  27\n",
      "Epoch:  28\n",
      "Epoch:  29\n",
      "Epoch:  30\n"
     ]
    },
    {
     "data": {
      "image/png": "[encoded data removed]",
      "text/plain": [
       "<Figure size 432x288 with 1 Axes>"
      ]
     },
     "metadata": {},
     "output_type": "display_data"
    },
    {
     "name": "stdout",
     "output_type": "stream",
     "text": [
      "Success rate of the overfit test for Sigmoid is:  0.8234166666666667\n"
     ]
    }
   ],
   "source": [
    "# Testing for overfitting\n",
    "\n",
    "X1, y1 = getTrainSet()\n",
    "indices_generator = generate_sets(X1)\n",
    "\n",
    "for train_index, val_index in indices_generator:\n",
    "    print('Testing overfitting for 3-layer sigmoid')\n",
    "    x1_train = X1[train_index]\n",
    "    y1_train = y1[train_index]\n",
    "    x1_val = X1[val_index]\n",
    "    y1_val = y1[val_index]\n",
    "     \n",
    "    parameters_sigmoid = sigmoid_model(x1_train, y1_train, x1_val, y1_val, epochs_for_overfit_test, shouldPlot=True)\n",
    "    \n",
    "    y1_predict = sigmoid_prediction(parameters_sigmoid, x1_val)\n",
    "    success_sigmoid = success_rate(y1_predict, y1_val)\n",
    "    print('Success rate of the overfit test for Sigmoid is: ', success_sigmoid)\n",
    "    break\n"
   ]
  },
  {
   "cell_type": "code",
   "execution_count": null,
   "metadata": {
    "scrolled": true
   },
   "outputs": [],
   "source": [
    "X1, y1 = getTrainSet()\n",
    "indices_generator = generate_sets(X1)\n",
    "model_list_sigmoid = []\n",
    "result_list_sigmoid = []\n",
    "\n",
    "i=0\n",
    "for train_index, val_index in indices_generator:\n",
    "    print(\"K=\",i+1)\n",
    "    x1_train = X1[train_index]\n",
    "    y1_train = y1[train_index]\n",
    "    x1_val = X1[val_index]\n",
    "    y1_val = y1[val_index]\n",
    "     \n",
    "    parameters_sigmoid = sigmoid_model(x1_train, y1_train, x1_val, y1_val)\n",
    "    model_list_sigmoid.append(parameters_sigmoid)\n",
    "    \n",
    "    y1_predict = sigmoid_prediction(parameters_sigmoid, x1_val)\n",
    "    success_sigmoid = success_rate(y1_predict, y1_val)\n",
    "    result_list_sigmoid.append(success_sigmoid)\n",
    "    \n",
    "    i += 1\n",
    "\n",
    "for i in range(0, len(result_list_sigmoid)):\n",
    "    print('Success rate for set', i, ' is: ', result_list_sigmoid[i])"
   ]
  },
  {
   "cell_type": "markdown",
   "metadata": {},
   "source": [
    "## ReLU"
   ]
  },
  {
   "cell_type": "code",
   "execution_count": 17,
   "metadata": {},
   "outputs": [],
   "source": [
    "import numpy as np\n",
    "import matplotlib.pyplot as plt\n",
    "\n",
    "def relu_model(completeX, completeY, x2_val, y2_val, epochs=epochs, shouldPlot=False):\n",
    "\n",
    "    W1, B1, W2, B2 = setupNN()\n",
    "    plot_test_relu = []\n",
    "    plot_val_relu = []\n",
    "    \n",
    "    parameters = {}\n",
    "\n",
    "    for k in range(0, epochs):\n",
    "        print('Epoch: ', k+1)\n",
    "\n",
    "        for j in range(0, int(completeX.shape[0]/batch_size)):\n",
    "            X = completeX[batch_size*j:batch_size*(j+1)]\n",
    "            y = completeY[batch_size*j:batch_size*(j+1)]\n",
    "\n",
    "            # Forward propagation\n",
    "\n",
    "            z1 = np.dot(X, W1) + B1\n",
    "\n",
    "            a1 = ReLU(z1)\n",
    "            \n",
    "            z2 = np.dot(a1, W2) + B2\n",
    "\n",
    "            # Hypothesis\n",
    "            a2 = softmax(z2)\n",
    "\n",
    "            # Back propagation\n",
    "            delta3 = cross_entropy_loss(a2, y, len(X))\n",
    "\n",
    "            dW2 = np.dot(np.transpose(a1), delta3)\n",
    "            dB2 = np.sum(delta3, axis=0, keepdims=True)\n",
    "            dot = np.dot(delta3, np.transpose(W2))\n",
    "            deriv = ReLU_derivative(z1)\n",
    "            delta2 = np.multiply(dot, deriv)\n",
    "\n",
    "            dW1 = np.dot(np.transpose(X), delta2)\n",
    "            dB1 = np.sum(delta2, axis=0, keepdims=True)\n",
    "\n",
    "            # Updating parameters\n",
    "\n",
    "            W1 += -learning_rate * dW1\n",
    "            B1 += -learning_rate * dB1\n",
    "            W2 += -learning_rate * dW2\n",
    "            B2 += -learning_rate * dB2\n",
    "\n",
    "            parameters = {'W1': W1, 'B1': B1, 'W2': W2, 'B2': B2}\n",
    "\n",
    "        X = completeX[batch_size*j:]\n",
    "        y = completeY[batch_size*j:]\n",
    "\n",
    "        # Forward propagation\n",
    "\n",
    "        z1 = np.dot(X, W1) + B1\n",
    "\n",
    "        a1 = ReLU(z1)\n",
    "\n",
    "        z2 = np.dot(a1, W2) + B2\n",
    "\n",
    "        # Hypothesis\n",
    "        a2 = softmax(z2)\n",
    "\n",
    "        # Back propagation\n",
    "        delta3 = cross_entropy_loss(a2, y, len(X))\n",
    "\n",
    "        dW2 = np.dot(np.transpose(a1), delta3)\n",
    "        dB2 = np.sum(delta3, axis=0, keepdims=True)\n",
    "        dot = np.dot(delta3, np.transpose(W2))\n",
    "        deriv = ReLU_derivative(z1)\n",
    "        delta2 = np.multiply(dot, deriv)\n",
    "\n",
    "        dW1 = np.dot(np.transpose(X), delta2)\n",
    "        dB1 = np.sum(delta2, axis=0, keepdims=True)\n",
    "\n",
    "        # Updating parameters\n",
    "\n",
    "        W1 += -learning_rate * dW1\n",
    "        B1 += -learning_rate * dB1\n",
    "        W2 += -learning_rate * dW2\n",
    "        B2 += -learning_rate * dB2\n",
    "\n",
    "        parameters = {'W1': W1, 'B1': B1, 'W2': W2, 'B2': B2}\n",
    "\n",
    "        if (shouldPlot):\n",
    "\n",
    "            prediction_test_relu = relu_prediction(parameters, completeX)\n",
    "            prediction_val_relu = relu_prediction(parameters, x2_val)\n",
    "\n",
    "            error_relu_test = error_rate(prediction_test_relu, completeY)\n",
    "            error_relu_val = error_rate(prediction_val_relu, y2_val)\n",
    "\n",
    "            plot_test_relu.append(error_relu_test*100)\n",
    "            plot_val_relu.append(error_relu_val*100)\n",
    "\n",
    "    if (shouldPlot):\n",
    "        # print(plot_test_relu)\n",
    "        plt.plot(range(1, epochs+1) ,plot_test_relu)\n",
    "        plt.plot(range(1, epochs+1), plot_val_relu)\n",
    "        plt.ylabel('Error Percentage - ReLU I')\n",
    "        plt.xlabel('Epochs')\n",
    "        plt.axis([1,epochs+1,0,100])\n",
    "        plt.savefig('relu_1_error.png', bbox_inches='tight')\n",
    "        plt.show()\n",
    "\n",
    "    return parameters\n",
    "\n",
    "def relu_prediction(parameters, X):\n",
    "    W1, B1, W2, B2 = parameters['W1'], parameters['B1'], parameters['W2'], parameters['B2']\n",
    "\n",
    "    z1 = np.dot(X, W1) + B1\n",
    "    a1 = ReLU(z1)\n",
    "    z2 = np.dot(a1, W2) + B2\n",
    "    a2 = softmax(z2)\n",
    "    \n",
    "    return np.argmax(a2, axis=1)"
   ]
  },
  {
   "cell_type": "code",
   "execution_count": null,
   "metadata": {},
   "outputs": [],
   "source": [
    "# Testing for overfitting\n",
    "\n",
    "X2, y2 = getTrainSet()\n",
    "indices_generator = generate_sets(X2)\n",
    "\n",
    "for train_index, val_index in indices_generator:\n",
    "    print('Testing overfitting for 3-layer ReLU')\n",
    "    x2_train = X2[train_index]\n",
    "    y2_train = y2[train_index]\n",
    "    x2_val = X2[val_index]\n",
    "    y2_val = y2[val_index]\n",
    "     \n",
    "    parameters = relu_model(x2_train, y2_train, x2_val, y2_val, epochs_for_overfit_test, shouldPlot=True)\n",
    "    \n",
    "    y2_predict = relu_prediction(parameters, x2_val)\n",
    "    success_relu = success_rate(y2_predict, y2_val)\n",
    "    print('Success rate of the overfit test for ReLU is: ', success_relu)\n"
   ]
  },
  {
   "cell_type": "code",
   "execution_count": 18,
   "metadata": {},
   "outputs": [
    {
     "name": "stdout",
     "output_type": "stream",
     "text": [
      "Epoch:  1\n",
      "Epoch:  2\n",
      "Epoch:  3\n",
      "Epoch:  4\n",
      "Epoch:  5\n",
      "[54.8875, 39.368750000000006, 31.02916666666667, 26.17083333333333, 24.29375]\n"
     ]
    },
    {
     "data": {
      "image/png": "[encoded data removed]",
      "text/plain": [
       "<Figure size 432x288 with 1 Axes>"
      ]
     },
     "metadata": {},
     "output_type": "display_data"
    },
    {
     "name": "stdout",
     "output_type": "stream",
     "text": [
      "Epoch:  1\n",
      "Epoch:  2\n",
      "Epoch:  3\n",
      "Epoch:  4\n",
      "Epoch:  5\n",
      "[53.78958333333333, 42.229166666666664, 32.71041666666667, 27.09375, 24.95625]\n"
     ]
    },
    {
     "data": {
      "image/png": "[encoded data removed]",
      "text/plain": [
       "<Figure size 432x288 with 1 Axes>"
      ]
     },
     "metadata": {},
     "output_type": "display_data"
    },
    {
     "name": "stdout",
     "output_type": "stream",
     "text": [
      "Epoch:  1\n",
      "Epoch:  2\n",
      "Epoch:  3\n",
      "Epoch:  4\n",
      "Epoch:  5\n",
      "[50.556250000000006, 39.72291666666667, 31.23125, 27.197916666666664, 25.345833333333335]\n"
     ]
    },
    {
     "data": {
      "image/png": "[encoded data removed]",
      "text/plain": [
       "<Figure size 432x288 with 1 Axes>"
      ]
     },
     "metadata": {},
     "output_type": "display_data"
    },
    {
     "name": "stdout",
     "output_type": "stream",
     "text": [
      "Epoch:  1\n",
      "Epoch:  2\n",
      "Epoch:  3\n",
      "Epoch:  4\n",
      "Epoch:  5\n",
      "[52.822916666666664, 38.666666666666664, 31.874999999999996, 27.272916666666667, 25.13958333333333]\n"
     ]
    },
    {
     "data": {
      "image/png": "[encoded data removed]",
      "text/plain": [
       "<Figure size 432x288 with 1 Axes>"
      ]
     },
     "metadata": {},
     "output_type": "display_data"
    },
    {
     "name": "stdout",
     "output_type": "stream",
     "text": [
      "Epoch:  1\n",
      "Epoch:  2\n",
      "Epoch:  3\n",
      "Epoch:  4\n",
      "Epoch:  5\n",
      "[50.89583333333333, 43.97083333333333, 32.53958333333333, 27.48541666666667, 25.4375]\n"
     ]
    },
    {
     "data": {
      "image/png": "[encoded data removed]",
      "text/plain": [
       "<Figure size 432x288 with 1 Axes>"
      ]
     },
     "metadata": {},
     "output_type": "display_data"
    },
    {
     "ename": "NameError",
     "evalue": "name 'result_list' is not defined",
     "output_type": "error",
     "traceback": [
      "\u001b[0;31m---------------------------------------------------------------------------\u001b[0m",
      "\u001b[0;31mNameError\u001b[0m                                 Traceback (most recent call last)",
      "\u001b[0;32m<ipython-input-18-f20d33d668bb>\u001b[0m in \u001b[0;36m<module>\u001b[0;34m()\u001b[0m\n\u001b[1;32m     20\u001b[0m     \u001b[0mi\u001b[0m \u001b[0;34m+=\u001b[0m \u001b[0;36m1\u001b[0m\u001b[0;34m\u001b[0m\u001b[0m\n\u001b[1;32m     21\u001b[0m \u001b[0;34m\u001b[0m\u001b[0m\n\u001b[0;32m---> 22\u001b[0;31m \u001b[0;32mfor\u001b[0m \u001b[0mi\u001b[0m \u001b[0;32min\u001b[0m \u001b[0mrange\u001b[0m\u001b[0;34m(\u001b[0m\u001b[0;36m0\u001b[0m\u001b[0;34m,\u001b[0m \u001b[0mlen\u001b[0m\u001b[0;34m(\u001b[0m\u001b[0mresult_list\u001b[0m\u001b[0;34m)\u001b[0m\u001b[0;34m)\u001b[0m\u001b[0;34m:\u001b[0m\u001b[0;34m\u001b[0m\u001b[0m\n\u001b[0m\u001b[1;32m     23\u001b[0m     \u001b[0mprint\u001b[0m\u001b[0;34m(\u001b[0m\u001b[0;34m'Success rate for set'\u001b[0m\u001b[0;34m,\u001b[0m \u001b[0mi\u001b[0m\u001b[0;34m,\u001b[0m \u001b[0;34m' is: '\u001b[0m\u001b[0;34m,\u001b[0m \u001b[0mresult_list\u001b[0m\u001b[0;34m[\u001b[0m\u001b[0mi\u001b[0m\u001b[0;34m]\u001b[0m\u001b[0;34m)\u001b[0m\u001b[0;34m\u001b[0m\u001b[0m\n",
      "\u001b[0;31mNameError\u001b[0m: name 'result_list' is not defined"
     ]
    }
   ],
   "source": [
    "X2, y2 = getTrainSet()\n",
    "indices_generator = generate_sets(X2)\n",
    "model_list_relu = []\n",
    "result_list_relu = []\n",
    "\n",
    "i=0\n",
    "for train_index, val_index in indices_generator:\n",
    "    print(\"K=\",i+1)\n",
    "    x2_train = X2[train_index]\n",
    "    y2_train = y2[train_index]\n",
    "    x2_val = X2[val_index]\n",
    "    y2_val = y2[val_index]\n",
    "     \n",
    "    parameters = relu_model(x2_train, y2_train, x2_val, y2_val)\n",
    "    model_list_relu.append(parameters)\n",
    "    \n",
    "    y2_predict = relu_prediction(parameters, x2_val)\n",
    "    success_relu = success_rate(y2_predict, y2_val)\n",
    "    result_list_relu.append(success_relu)\n",
    "    \n",
    "    i += 1\n",
    "\n",
    "for i in range(0, len(result_list)):\n",
    "    print('Success rate for set', i, ' is: ', result_list[i])"
   ]
  },
  {
   "cell_type": "markdown",
   "metadata": {},
   "source": [
    "## Leaky ReLU"
   ]
  },
  {
   "cell_type": "code",
   "execution_count": 21,
   "metadata": {},
   "outputs": [],
   "source": [
    "import numpy as np\n",
    "import matplotlib.pyplot as plt\n",
    "\n",
    "def leaky_relu_model(completeX, completeY, x3_val, y3_val, epochs=epochs, shouldPlot=False):\n",
    "\n",
    "    W1, B1, W2, B2 = setupNN()\n",
    "    plot_test_leaky = []\n",
    "    plot_val_leaky = []\n",
    "    \n",
    "    parameters = {}\n",
    "\n",
    "    for k in range(0, epochs):\n",
    "        print('Epoch: ', k+1)\n",
    "\n",
    "        for j in range(0, int(completeX.shape[0]/batch_size)):\n",
    "            X = completeX[batch_size*j:batch_size*(j+1)]\n",
    "            y = completeY[batch_size*j:batch_size*(j+1)]\n",
    "\n",
    "            # Forward propagation\n",
    "\n",
    "            z1 = np.dot(X, W1) + B1\n",
    "            \n",
    "            a1 = leaky_ReLU(z1)\n",
    "\n",
    "            z2 = np.dot(a1, W2) + B2\n",
    "\n",
    "            # Hypothesis\n",
    "            a2 = softmax(z2)\n",
    "\n",
    "            # Back propagation\n",
    "            delta3 = cross_entropy_loss(a2, y, len(X))\n",
    "\n",
    "            dW2 = np.dot(np.transpose(a1), delta3)\n",
    "            dB2 = np.sum(delta3, axis=0, keepdims=True)\n",
    "            dot = np.dot(delta3, np.transpose(W2))\n",
    "            deriv = leaky_ReLU_derivative(z1)\n",
    "            delta2 = np.multiply(dot, deriv)\n",
    "\n",
    "            dW1 = np.dot(np.transpose(X), delta2)\n",
    "            dB1 = np.sum(delta2, axis=0, keepdims=True)\n",
    "\n",
    "            # Updating parameters\n",
    "\n",
    "            W1 += -learning_rate * dW1\n",
    "            B1 += -learning_rate * dB1\n",
    "            W2 += -learning_rate * dW2\n",
    "            B2 += -learning_rate * dB2\n",
    "\n",
    "            parameters = {'W1': W1, 'B1': B1, 'W2': W2, 'B2': B2}\n",
    "\n",
    "        X = completeX[batch_size*j:]\n",
    "        y = completeY[batch_size*j:]\n",
    "        \n",
    "        # Forward propagation\n",
    "\n",
    "        z1 = np.dot(X, W1) + B1\n",
    "\n",
    "        a1 = leaky_ReLU(z1)\n",
    "\n",
    "        z2 = np.dot(a1, W2) + B2\n",
    "\n",
    "        # Hypothesis\n",
    "        a2 = softmax(z2)\n",
    "\n",
    "        # Back propagation\n",
    "        delta3 = cross_entropy_loss(a2, y, len(X))\n",
    "\n",
    "        dW2 = np.dot(np.transpose(a1), delta3)\n",
    "        dB2 = np.sum(delta3, axis=0, keepdims=True)\n",
    "        dot = np.dot(delta3, np.transpose(W2))\n",
    "        deriv = leaky_ReLU_derivative(z1)\n",
    "        delta2 = np.multiply(dot, deriv)\n",
    "\n",
    "        dW1 = np.dot(np.transpose(X), delta2)\n",
    "        dB1 = np.sum(delta2, axis=0, keepdims=True)\n",
    "\n",
    "        # Updating parameters\n",
    "\n",
    "        W1 += -learning_rate * dW1\n",
    "        B1 += -learning_rate * dB1\n",
    "        W2 += -learning_rate * dW2\n",
    "        B2 += -learning_rate * dB2\n",
    "\n",
    "        parameters = {'W1': W1, 'B1': B1, 'W2': W2, 'B2': B2}\n",
    "        \n",
    "        if (shouldPlot):\n",
    "\n",
    "            prediction_test_leaky = leaky_relu_prediction(parameters, completeX)\n",
    "            prediction_val_leaky = leaky_relu_prediction(parameters, x3_val)\n",
    "\n",
    "            error_leaky_test = error_rate(prediction_test_leaky, completeY)\n",
    "            error_leaky_val = error_rate(prediction_val_leaky, y3_val)\n",
    "\n",
    "            plot_test_leaky.append(error_leaky_test*100)\n",
    "            plot_val_leaky.append(error_leaky_val*100)\n",
    "\n",
    "    if (shouldPlot):\n",
    "        # print(plot_test_leaky)\n",
    "        plt.plot(range(1, epochs+1) ,plot_test_leaky)\n",
    "        plt.plot(range(1, epochs+1), plot_val_leaky)\n",
    "        plt.ylabel('Error Percentage - Leaky ReLU I')\n",
    "        plt.xlabel('Epochs')\n",
    "        plt.axis([1,epochs+1,0,100])\n",
    "        plt.savefig('leaky_1_error.png', bbox_inches='tight')\n",
    "        plt.show()\n",
    "    \n",
    "    return parameters\n",
    "\n",
    "def leaky_relu_prediction(parameters, X):\n",
    "    W1, B1, W2, B2 = parameters['W1'], parameters['B1'], parameters['W2'], parameters['B2']\n",
    "\n",
    "    z1 = np.dot(X, W1) + B1\n",
    "    a1 = leaky_ReLU(z1)\n",
    "    z2 = np.dot(a1, W2) + B2\n",
    "    a2 = softmax(z2)\n",
    "    \n",
    "    return np.argmax(a2, axis=1)"
   ]
  },
  {
   "cell_type": "code",
   "execution_count": null,
   "metadata": {},
   "outputs": [],
   "source": [
    "# Testing for overfitting\n",
    "\n",
    "X3, y3 = getTrainSet()\n",
    "indices_generator = generate_sets(X3)\n",
    "\n",
    "for train_index, val_index in indices_generator:\n",
    "    print('Testing overfitting for 3-layer Leaky ReLU')\n",
    "    x3_train = X3[train_index]\n",
    "    y3_train = y3[train_index]\n",
    "    x3_val = X3[val_index]\n",
    "    y3_val = y3[val_index]\n",
    "     \n",
    "    parameters = leaky_relu_model(x3_train, y3_train, x3_val, y3_val, epochs_for_overfit_test, shouldPlot=True)\n",
    "    \n",
    "    y3_predict = leaky_relu_prediction(parameters, x3_val)\n",
    "    success_leaky = success_rate(y3_predict, y3_val)\n",
    "    print('Success rate of the overfit test for Leaky ReLU is: ', success_relu)\n"
   ]
  },
  {
   "cell_type": "code",
   "execution_count": 22,
   "metadata": {},
   "outputs": [
    {
     "name": "stdout",
     "output_type": "stream",
     "text": [
      "K= 1\n",
      "Epoch:  1\n",
      "Epoch:  2\n",
      "Epoch:  3\n",
      "Epoch:  4\n",
      "Epoch:  5\n",
      "[54.614583333333336, 45.6875, 31.74375, 25.427083333333332, 23.229166666666668]\n"
     ]
    },
    {
     "data": {
      "image/png": "[encoded data removed]",
      "text/plain": [
       "<Figure size 432x288 with 1 Axes>"
      ]
     },
     "metadata": {},
     "output_type": "display_data"
    },
    {
     "name": "stdout",
     "output_type": "stream",
     "text": [
      "K= 2\n",
      "Epoch:  1\n",
      "Epoch:  2\n"
     ]
    },
    {
     "ename": "KeyboardInterrupt",
     "evalue": "",
     "output_type": "error",
     "traceback": [
      "\u001b[0;31m---------------------------------------------------------------------------\u001b[0m",
      "\u001b[0;31mKeyboardInterrupt\u001b[0m                         Traceback (most recent call last)",
      "\u001b[0;32m<ipython-input-22-308cb2d58459>\u001b[0m in \u001b[0;36m<module>\u001b[0;34m()\u001b[0m\n\u001b[1;32m     12\u001b[0m     \u001b[0my3_val\u001b[0m \u001b[0;34m=\u001b[0m \u001b[0my3\u001b[0m\u001b[0;34m[\u001b[0m\u001b[0mval_index\u001b[0m\u001b[0;34m]\u001b[0m\u001b[0;34m\u001b[0m\u001b[0m\n\u001b[1;32m     13\u001b[0m \u001b[0;34m\u001b[0m\u001b[0m\n\u001b[0;32m---> 14\u001b[0;31m     \u001b[0mparameters\u001b[0m \u001b[0;34m=\u001b[0m \u001b[0mleaky_relu_model\u001b[0m\u001b[0;34m(\u001b[0m\u001b[0mx3_train\u001b[0m\u001b[0;34m,\u001b[0m \u001b[0my3_train\u001b[0m\u001b[0;34m,\u001b[0m \u001b[0mx3_val\u001b[0m\u001b[0;34m,\u001b[0m \u001b[0my3_val\u001b[0m\u001b[0;34m)\u001b[0m\u001b[0;34m\u001b[0m\u001b[0m\n\u001b[0m\u001b[1;32m     15\u001b[0m     \u001b[0mmodel_list_leaky\u001b[0m\u001b[0;34m.\u001b[0m\u001b[0mappend\u001b[0m\u001b[0;34m(\u001b[0m\u001b[0mparameters\u001b[0m\u001b[0;34m)\u001b[0m\u001b[0;34m\u001b[0m\u001b[0m\n\u001b[1;32m     16\u001b[0m \u001b[0;34m\u001b[0m\u001b[0m\n",
      "\u001b[0;32m<ipython-input-21-d88b55610055>\u001b[0m in \u001b[0;36mleaky_relu_model\u001b[0;34m(completeX, completeY, x3_val, y3_val)\u001b[0m\n\u001b[1;32m     26\u001b[0m \u001b[0;34m\u001b[0m\u001b[0m\n\u001b[1;32m     27\u001b[0m             \u001b[0;31m# Hypothesis\u001b[0m\u001b[0;34m\u001b[0m\u001b[0;34m\u001b[0m\u001b[0m\n\u001b[0;32m---> 28\u001b[0;31m             \u001b[0ma2\u001b[0m \u001b[0;34m=\u001b[0m \u001b[0msoftmax\u001b[0m\u001b[0;34m(\u001b[0m\u001b[0mz2\u001b[0m\u001b[0;34m)\u001b[0m\u001b[0;34m\u001b[0m\u001b[0m\n\u001b[0m\u001b[1;32m     29\u001b[0m \u001b[0;34m\u001b[0m\u001b[0m\n\u001b[1;32m     30\u001b[0m             \u001b[0;31m# Back propagation\u001b[0m\u001b[0;34m\u001b[0m\u001b[0;34m\u001b[0m\u001b[0m\n",
      "\u001b[0;32m<ipython-input-14-4a0b2c0147a0>\u001b[0m in \u001b[0;36msoftmax\u001b[0;34m(z)\u001b[0m\n\u001b[1;32m      4\u001b[0m \u001b[0;32mdef\u001b[0m \u001b[0msoftmax\u001b[0m\u001b[0;34m(\u001b[0m\u001b[0mz\u001b[0m\u001b[0;34m)\u001b[0m\u001b[0;34m:\u001b[0m\u001b[0;34m\u001b[0m\u001b[0m\n\u001b[1;32m      5\u001b[0m     \u001b[0mexpZ\u001b[0m \u001b[0;34m=\u001b[0m \u001b[0mnp\u001b[0m\u001b[0;34m.\u001b[0m\u001b[0mexp\u001b[0m\u001b[0;34m(\u001b[0m\u001b[0mz\u001b[0m \u001b[0;34m-\u001b[0m \u001b[0mnp\u001b[0m\u001b[0;34m.\u001b[0m\u001b[0mmax\u001b[0m\u001b[0;34m(\u001b[0m\u001b[0mz\u001b[0m\u001b[0;34m)\u001b[0m\u001b[0;34m)\u001b[0m\u001b[0;34m\u001b[0m\u001b[0m\n\u001b[0;32m----> 6\u001b[0;31m     \u001b[0;32mreturn\u001b[0m \u001b[0mexpZ\u001b[0m \u001b[0;34m/\u001b[0m \u001b[0mnp\u001b[0m\u001b[0;34m.\u001b[0m\u001b[0msum\u001b[0m\u001b[0;34m(\u001b[0m\u001b[0mexpZ\u001b[0m\u001b[0;34m,\u001b[0m \u001b[0maxis\u001b[0m\u001b[0;34m=\u001b[0m\u001b[0;36m1\u001b[0m\u001b[0;34m,\u001b[0m \u001b[0mkeepdims\u001b[0m\u001b[0;34m=\u001b[0m\u001b[0;32mTrue\u001b[0m\u001b[0;34m)\u001b[0m\u001b[0;34m\u001b[0m\u001b[0m\n\u001b[0m",
      "\u001b[0;32m~/anaconda3/lib/python3.6/site-packages/numpy/core/fromnumeric.py\u001b[0m in \u001b[0;36msum\u001b[0;34m(a, axis, dtype, out, keepdims)\u001b[0m\n\u001b[1;32m   1880\u001b[0m             \u001b[0;32mreturn\u001b[0m \u001b[0msum\u001b[0m\u001b[0;34m(\u001b[0m\u001b[0maxis\u001b[0m\u001b[0;34m=\u001b[0m\u001b[0maxis\u001b[0m\u001b[0;34m,\u001b[0m \u001b[0mdtype\u001b[0m\u001b[0;34m=\u001b[0m\u001b[0mdtype\u001b[0m\u001b[0;34m,\u001b[0m \u001b[0mout\u001b[0m\u001b[0;34m=\u001b[0m\u001b[0mout\u001b[0m\u001b[0;34m,\u001b[0m \u001b[0;34m**\u001b[0m\u001b[0mkwargs\u001b[0m\u001b[0;34m)\u001b[0m\u001b[0;34m\u001b[0m\u001b[0m\n\u001b[1;32m   1881\u001b[0m     return _methods._sum(a, axis=axis, dtype=dtype,\n\u001b[0;32m-> 1882\u001b[0;31m                          out=out, **kwargs)\n\u001b[0m\u001b[1;32m   1883\u001b[0m \u001b[0;34m\u001b[0m\u001b[0m\n\u001b[1;32m   1884\u001b[0m \u001b[0;34m\u001b[0m\u001b[0m\n",
      "\u001b[0;32m~/anaconda3/lib/python3.6/site-packages/numpy/core/_methods.py\u001b[0m in \u001b[0;36m_sum\u001b[0;34m(a, axis, dtype, out, keepdims)\u001b[0m\n\u001b[1;32m     29\u001b[0m     \u001b[0;32mreturn\u001b[0m \u001b[0mumr_minimum\u001b[0m\u001b[0;34m(\u001b[0m\u001b[0ma\u001b[0m\u001b[0;34m,\u001b[0m \u001b[0maxis\u001b[0m\u001b[0;34m,\u001b[0m \u001b[0;32mNone\u001b[0m\u001b[0;34m,\u001b[0m \u001b[0mout\u001b[0m\u001b[0;34m,\u001b[0m \u001b[0mkeepdims\u001b[0m\u001b[0;34m)\u001b[0m\u001b[0;34m\u001b[0m\u001b[0m\n\u001b[1;32m     30\u001b[0m \u001b[0;34m\u001b[0m\u001b[0m\n\u001b[0;32m---> 31\u001b[0;31m \u001b[0;32mdef\u001b[0m \u001b[0m_sum\u001b[0m\u001b[0;34m(\u001b[0m\u001b[0ma\u001b[0m\u001b[0;34m,\u001b[0m \u001b[0maxis\u001b[0m\u001b[0;34m=\u001b[0m\u001b[0;32mNone\u001b[0m\u001b[0;34m,\u001b[0m \u001b[0mdtype\u001b[0m\u001b[0;34m=\u001b[0m\u001b[0;32mNone\u001b[0m\u001b[0;34m,\u001b[0m \u001b[0mout\u001b[0m\u001b[0;34m=\u001b[0m\u001b[0;32mNone\u001b[0m\u001b[0;34m,\u001b[0m \u001b[0mkeepdims\u001b[0m\u001b[0;34m=\u001b[0m\u001b[0;32mFalse\u001b[0m\u001b[0;34m)\u001b[0m\u001b[0;34m:\u001b[0m\u001b[0;34m\u001b[0m\u001b[0m\n\u001b[0m\u001b[1;32m     32\u001b[0m     \u001b[0;32mreturn\u001b[0m \u001b[0mumr_sum\u001b[0m\u001b[0;34m(\u001b[0m\u001b[0ma\u001b[0m\u001b[0;34m,\u001b[0m \u001b[0maxis\u001b[0m\u001b[0;34m,\u001b[0m \u001b[0mdtype\u001b[0m\u001b[0;34m,\u001b[0m \u001b[0mout\u001b[0m\u001b[0;34m,\u001b[0m \u001b[0mkeepdims\u001b[0m\u001b[0;34m)\u001b[0m\u001b[0;34m\u001b[0m\u001b[0m\n\u001b[1;32m     33\u001b[0m \u001b[0;34m\u001b[0m\u001b[0m\n",
      "\u001b[0;31mKeyboardInterrupt\u001b[0m: "
     ]
    }
   ],
   "source": [
    "X3, y3 = getTrainSet()\n",
    "indices_generator = generate_sets(X3)\n",
    "model_list_leaky = []\n",
    "result_list_leaky = []\n",
    "\n",
    "i=0\n",
    "for train_index, val_index in indices_generator:\n",
    "    print(\"K=\",i+1)\n",
    "    x3_train = X3[train_index]\n",
    "    y3_train = y3[train_index]\n",
    "    x3_val = X3[val_index]\n",
    "    y3_val = y3[val_index]\n",
    "     \n",
    "    parameters = leaky_relu_model(x3_train, y3_train, x3_val, y3_val)\n",
    "    model_list_leaky.append(parameters)\n",
    "    \n",
    "    y3_predict = leaky_relu_prediction(parameters, x3_val)\n",
    "    success_leaky = success_rate(y3_predict, y3_val)\n",
    "    result_list_leaky.append(success_leaky)\n",
    "    \n",
    "    i += 1\n",
    "\n",
    "for i in range(0, len(result_list)):\n",
    "    print('Success rate for set', i, ' is: ', result_list[i])"
   ]
  },
  {
   "cell_type": "markdown",
   "metadata": {},
   "source": [
    "## Tanh"
   ]
  },
  {
   "cell_type": "code",
   "execution_count": null,
   "metadata": {},
   "outputs": [],
   "source": [
    "# import numpy as np\n",
    "\n",
    "# def tanh_model(X, y):\n",
    "\n",
    "#     W1, B1, W2, B2 = setupNN()\n",
    "\n",
    "#     parameters = {}\n",
    "\n",
    "#     for i in range(0, interactions):\n",
    "\n",
    "#         # Forward propagation\n",
    "\n",
    "#         z1 = np.dot(X, W1) + B1\n",
    "\n",
    "#         a1 = tanh(z1)\n",
    "\n",
    "#         z2 = np.dot(a1, W2) + B2\n",
    "\n",
    "#         # Hypothesis\n",
    "#         a2 = softmax(z2)\n",
    "\n",
    "#         # Back propagation\n",
    "#         delta3 = cross_entropy_loss(a2, y, len(X))\n",
    "\n",
    "#         dW2 = np.dot(np.transpose(a1), delta3)\n",
    "#         dB2 = np.sum(delta3, axis=0, keepdims=True)\n",
    "#         dot = np.dot(delta3, np.transpose(W2))\n",
    "#         deriv = tanh_derivative(z1)\n",
    "#         delta2 = np.multiply(dot, deriv)\n",
    "\n",
    "#         dW1 = np.dot(np.transpose(X), delta2)\n",
    "#         dB1 = np.sum(delta2, axis=0, keepdims=True)\n",
    "\n",
    "#         # Updating parameters\n",
    "\n",
    "#         W1 += -learning_rate * dW1\n",
    "#         B1 += -learning_rate * dB1\n",
    "#         W2 += -learning_rate * dW2\n",
    "#         B2 += -learning_rate * dB2\n",
    "\n",
    "#         parameters = {'W1': W1, 'B1': B1, 'W2': W2, 'B2': B2}\n",
    "\n",
    "#     return parameters\n",
    "\n",
    "# def tanh_prediction(parameters, X):\n",
    "#     W1, B1, W2, B2 = parameters['W1'], parameters['B1'], parameters['W2'], parameters['B2']\n",
    "\n",
    "#     z1 = np.dot(X, W1) + B1\n",
    "#     a1 = tanh(z1)\n",
    "#     z2 = np.dot(a1, W2) + B2\n",
    "#     a2 = softmax(z2)\n",
    "    \n",
    "#     return np.argmax(a2, axis=1)"
   ]
  },
  {
   "cell_type": "code",
   "execution_count": null,
   "metadata": {
    "scrolled": true
   },
   "outputs": [],
   "source": [
    "# X4, y4 = getTrainSet()\n",
    "# indices_generator = generate_sets(X3)\n",
    "# model_list_tanh = []\n",
    "# result_list_tanh = []\n",
    "\n",
    "# i=0\n",
    "# for train_index, val_index in indices_generator:\n",
    "#     x4_train = X4[train_index]\n",
    "#     y4_train = y4[train_index]\n",
    "#     x4_val = X4[val_index]\n",
    "#     y4_val = y4[val_index]\n",
    "     \n",
    "#     parameters = leaky_relu_model(x4_train, y4_train)\n",
    "#     model_list_tanh.append(parameters)\n",
    "    \n",
    "#     y4_predict = leaky_relu_prediction(parameters, x4_val)\n",
    "#     success = success_rate(y4_predict, y4_val)\n",
    "#     result_list_tanh.append(success)\n",
    "    \n",
    "#     i += 1\n",
    "\n",
    "# for i in range(0, len(result_list)):\n",
    "#     print('Success rate for set', i, ' is: ', result_list[i])"
   ]
  },
  {
   "cell_type": "markdown",
   "metadata": {},
   "source": [
    "# Test"
   ]
  },
  {
   "cell_type": "code",
   "execution_count": null,
   "metadata": {},
   "outputs": [],
   "source": [
    "# Xt, yt = getTestSet()\n",
    "\n",
    "# yt_predict = insertmodelhere(insertparameters here, Xt)\n",
    "# success = success_rate(yt_predict, yt)\n",
    "\n",
    "# print('Success rate for the test set is: ', success)"
   ]
  }
 ],
 "metadata": {
  "kernelspec": {
   "display_name": "Python 3",
   "language": "python",
   "name": "python3"
  },
  "language_info": {
   "codemirror_mode": {
    "name": "ipython",
    "version": 3
   },
   "file_extension": ".py",
   "mimetype": "text/x-python",
   "name": "python",
   "nbconvert_exporter": "python",
   "pygments_lexer": "ipython3",
   "version": "3.6.5"
  }
 },
 "nbformat": 4,
 "nbformat_minor": 2
}
