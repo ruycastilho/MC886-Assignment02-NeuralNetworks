{
 "cells": [
  {
   "cell_type": "markdown",
   "metadata": {},
   "source": [
    "## Importação dos Dados"
   ]
  },
  {
   "cell_type": "code",
   "execution_count": 1,
   "metadata": {},
   "outputs": [],
   "source": [
    "import pandas as pd\n",
    "import os\n",
    "\n",
    "def load_fashionMNIST_train():\n",
    "    csv_path = os.path.join(\"Data/fashion-mnist-dataset\", \"fashion-mnist_train.csv\")\n",
    "    return pd.read_csv(csv_path)\n",
    "\n",
    "def load_fashionMNIST_tests():\n",
    "    csv_path = os.path.join(\"Data/fashion-mnist-dataset\", \"fashion-mnist_test.csv\")\n",
    "    return pd.read_csv(csv_path)"
   ]
  },
  {
   "cell_type": "markdown",
   "metadata": {},
   "source": [
    "## Feature Scalling e Normalização"
   ]
  },
  {
   "cell_type": "code",
   "execution_count": 2,
   "metadata": {},
   "outputs": [],
   "source": [
    "import numpy as np\n",
    "\n",
    "def normalize(train, test):\n",
    "    train_mean = np.mean(train, axis=0)\n",
    "    train = train - train_mean\n",
    "    test = test - train_mean\n",
    "    \n",
    "    return train, test\n",
    "\n",
    "def scale(X):\n",
    "    max_array = np.max(X, axis=0)\n",
    "    X = X / max_array[None, :]\n",
    "    return X"
   ]
  },
  {
   "cell_type": "markdown",
   "metadata": {},
   "source": [
    "## Geração de matrizes de Features e Target"
   ]
  },
  {
   "cell_type": "markdown",
   "metadata": {},
   "source": [
    "### Setup inicial dos dados"
   ]
  },
  {
   "cell_type": "code",
   "execution_count": null,
   "metadata": {},
   "outputs": [],
   "source": [
    "import numpy as np\n",
    "\n",
    "#carrega os dados\n",
    "data_train = load_fashionMNIST_train()\n",
    "data_test = load_fashionMNIST_tests()\n",
    "\n",
    "# Separação em Features e Target\n",
    "\n",
    "data_train_target = np.array(data_train[\"label\"])\n",
    "data_test_target = np.array(data_test[\"label\"])\n",
    "\n",
    "data_train = np.array(data_train)\n",
    "data_test = np.array(data_test)\n",
    "\n",
    "data_train = np.delete(data_train, 0, axis=1)\n",
    "data_test = np.delete(data_test, 0, axis=1)\n",
    "\n",
    "# Normalização\n",
    "normalized_data_train, normalized_data_test = normalize(data_train,data_test)\n",
    "\n",
    "# Scaling\n",
    "scaled_data_train = scale(normalized_data_train)\n",
    "scaled_data_test = scale(normalized_data_test)\n",
    "\n",
    "# Adicionando coluna de 1's\n",
    "ready_data_train = np.c_[np.ones((len(scaled_data_train),1)), scaled_data_train]\n",
    "ready_data_test = np.c_[np.ones((len(scaled_data_test),1)), scaled_data_test]\n",
    "\n",
    "def getTrainSet():\n",
    "    return ready_data_train, data_train_target\n",
    "\n",
    "def getTestSet():\n",
    "    return ready_data_test,data_test_target"
   ]
  },
  {
   "cell_type": "markdown",
   "metadata": {},
   "source": [
    "## Gerador de conjuntos de Cross Validation"
   ]
  },
  {
   "cell_type": "code",
   "execution_count": null,
   "metadata": {},
   "outputs": [],
   "source": [
    "# Cross Validation Generation \n",
    "\n",
    "from sklearn.model_selection import train_test_split, KFold\n",
    "\n",
    "# Retorna um gerador de indices\n",
    "def generate_sets(TRAINING_DATA,type='kfold'):\n",
    "\n",
    "    # Cross validation using train_test_split\n",
    "    if (type == 'split'):\n",
    "       return train_test_split(TRAINING_DATA,test_size=0.2,random_state=0)\n",
    "\n",
    "    # Cross validation using K-Fold\n",
    "    # K = 5, Shuffle = true, Seed = 21\n",
    "    elif (type == 'kfold'):\n",
    "        kfold_seed = 21\n",
    "\n",
    "        kfold = KFold(n_splits=5, shuffle=True, random_state=kfold_seed)\n",
    "        return kfold.split(TRAINING_DATA)"
   ]
  },
  {
   "cell_type": "markdown",
   "metadata": {},
   "source": [
    "## SciKit Binary Classifier"
   ]
  },
  {
   "cell_type": "code",
   "execution_count": null,
   "metadata": {},
   "outputs": [],
   "source": [
    "from sklearn.linear_model import SGDClassifier\n",
    "\n",
    "sgd_clf = SGDClassifier(max_iter=5, random_state=42)\n",
    "sgd_clf.fit(X_train, y_train_<FEATURENUMBER>)\n",
    "#to predict\n",
    "# sgd_clf.predict([some_digit])\n",
    "\n",
    "# SGDClassifier(alpha=0.0001, average=False, class_weight=None, epsilon=0.1,\n",
    "#        eta0=0.0, fit_intercept=True, l1_ratio=0.15,\n",
    "#        learning_rate='optimal', loss='hinge', max_iter=5, n_iter=None,\n",
    "#        n_jobs=1, penalty='l2', power_t=0.5, random_state=42, shuffle=True,\n",
    "#        tol=None, verbose=0, warm_start=False)"
   ]
  },
  {
   "cell_type": "markdown",
   "metadata": {},
   "source": [
    "### Sigmoid and Loss functions"
   ]
  },
  {
   "cell_type": "code",
   "execution_count": null,
   "metadata": {},
   "outputs": [],
   "source": [
    "import numpy as np\n",
    "\n",
    "def sigmoid(z):\n",
    "    return 1 / (1+np.exp(-z))\n",
    "\n",
    "def loss(h, y):\n",
    "    return (-y * np.log(h) - (1 - y) * np.log(1 - h)).mean()\n",
    "\n",
    "## z = np.dot(X, theta)\n",
    "## h = sigmoid(z)"
   ]
  },
  {
   "cell_type": "markdown",
   "metadata": {},
   "source": [
    "##  Binary Logistic Regression"
   ]
  },
  {
   "cell_type": "code",
   "execution_count": null,
   "metadata": {},
   "outputs": [],
   "source": [
    "import numpy as np\n",
    "\n",
    "def binary_logistic_regression(x, y, learningRate, numIterations):\n",
    "    xTrans = x.transpose()\n",
    "    theta = np.zeros((x.shape[1],1))\n",
    "    y = y.reshape((y.shape[0],1))\n",
    "    m = x.shape[0]\n",
    "    \n",
    "    for i in range(numIterations):\n",
    "        z = np.dot(X, theta)\n",
    "        hypothesis = sigmoid(z)\n",
    "        \n",
    "        gradient = np.dot(X.T, (hypothesis - y)) / m\n",
    "        theta -= learningRate * gradient\n",
    "    return theta\n",
    "    "
   ]
  },
  {
   "cell_type": "markdown",
   "metadata": {},
   "source": [
    "## Binary Logistic Regression with CostperIteraction"
   ]
  },
  {
   "cell_type": "code",
   "execution_count": null,
   "metadata": {},
   "outputs": [],
   "source": [
    "def binary_logistic_regression_costPerIteraction(x, y, x_val, y_val, learningRate, numIterations):\n",
    "    xTrans = x.transpose()\n",
    "    theta = np.zeros((x.shape[1],1))\n",
    "    y_val = y_val.reshape(y_val.shape[0],1)\n",
    "    y = y.reshape((y.shape[0],1))\n",
    "    m = x.shape[0]\n",
    "    cost = np.zeros((numIterations/10,1))\n",
    "    cost_validation = np.zeros((numIterations/10,1))\n",
    "    \n",
    "    for i in range(numIterations):\n",
    "        z = np.dot(X, theta)\n",
    "        hypothesis = sigmoid(z)\n",
    "        \n",
    "        gradient = np.dot(X.T, (hypothesis - y)) / m\n",
    "        theta -= learningRate * gradient\n",
    "        if i % 10 == 2:\n",
    "            index = int(i/10)\n",
    "            val_predict = sigmoid(np.dot(x_val,theta))\n",
    "            cost[index] = loss(hypothesis,y)\n",
    "            cost_validation[index] = loss(val_predict, y_val)\n",
    "        \n",
    "        return theta, cost, cost_validation\n",
    "        "
   ]
  }
 ],
 "metadata": {
  "kernelspec": {
   "display_name": "Python 3",
   "language": "python",
   "name": "python3"
  },
  "language_info": {
   "codemirror_mode": {
    "name": "ipython",
    "version": 3
   },
   "file_extension": ".py",
   "mimetype": "text/x-python",
   "name": "python",
   "nbconvert_exporter": "python",
   "pygments_lexer": "ipython3",
   "version": "3.6.5"
  }
 },
 "nbformat": 4,
 "nbformat_minor": 2
}
